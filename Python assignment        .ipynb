{
 "cells": [
  {
   "cell_type": "markdown",
   "id": "4ec5df1b",
   "metadata": {},
   "source": [
    "# For Loop :-\n"
   ]
  },
  {
   "cell_type": "markdown",
   "id": "e662039e",
   "metadata": {},
   "source": [
    "# 1. Write a Python program to print numbers from 1 to 10 using a for loop."
   ]
  },
  {
   "cell_type": "code",
   "execution_count": 1,
   "id": "3cc492bf",
   "metadata": {},
   "outputs": [
    {
     "name": "stdout",
     "output_type": "stream",
     "text": [
      "1\n",
      "2\n",
      "3\n",
      "4\n",
      "5\n",
      "6\n",
      "7\n",
      "8\n",
      "9\n",
      "10\n"
     ]
    }
   ],
   "source": [
    "for i in range(1, 11):\n",
    "    print(i)"
   ]
  },
  {
   "cell_type": "markdown",
   "id": "3115fff0",
   "metadata": {},
   "source": [
    "# 2. Explain the difference between a for loop and a while loop in Python.\n"
   ]
  },
  {
   "cell_type": "code",
   "execution_count": null,
   "id": "c48972e3",
   "metadata": {},
   "outputs": [],
   "source": [
    "For Loop:\n",
    "\n",
    "A for loop is used for iterating over a sequence (a list, tuple, dictionary, string, or range).\n",
    "It is primarily used when the number of iterations is known.\n",
    "The syntax of a for loop is as follows:\n",
    "    \n",
    "    for element in sequence:\n",
    "    # Execute some code\n",
    "\n",
    "    \n",
    "While Loop:\n",
    "\n",
    "A while loop is used to execute a set of statements as long as a condition is true.\n",
    "It is used when the number of iterations is not known beforehand and depends on a specific condition.\n",
    "The syntax of a while loop is as follows: \n",
    "    \n",
    "    \n",
    "    \n",
    "    while condition:\n",
    "    # Execute some code   "
   ]
  },
  {
   "cell_type": "markdown",
   "id": "4b9906d9",
   "metadata": {},
   "source": [
    "# 3. Write a Python program to calculate the sum of all numbers from 1 to 100 using a for loop.\n"
   ]
  },
  {
   "cell_type": "code",
   "execution_count": 2,
   "id": "edcbb655",
   "metadata": {},
   "outputs": [
    {
     "name": "stdout",
     "output_type": "stream",
     "text": [
      "The sum of all numbers from 1 to 100 is: 5050\n"
     ]
    }
   ],
   "source": [
    "sum = 0\n",
    "for i in range(1, 101):\n",
    "    sum += i\n",
    "\n",
    "print(f\"The sum of all numbers from 1 to 100 is: {sum}\")"
   ]
  },
  {
   "cell_type": "markdown",
   "id": "f263e39b",
   "metadata": {},
   "source": [
    "# 4. How do you iterate through a list using a for loop in Python?"
   ]
  },
  {
   "cell_type": "code",
   "execution_count": 3,
   "id": "0aa17ae9",
   "metadata": {},
   "outputs": [
    {
     "name": "stdout",
     "output_type": "stream",
     "text": [
      "1\n",
      "2\n",
      "3\n",
      "4\n",
      "5\n"
     ]
    }
   ],
   "source": [
    "my_list = [1, 2, 3, 4, 5]\n",
    "for element in my_list:\n",
    "    print(element)"
   ]
  },
  {
   "cell_type": "markdown",
   "id": "11cccfce",
   "metadata": {},
   "source": [
    "# 5. Write a Python program to find the product of all elements in a list using a for loop.\n"
   ]
  },
  {
   "cell_type": "code",
   "execution_count": 4,
   "id": "ebb1bcfc",
   "metadata": {},
   "outputs": [
    {
     "name": "stdout",
     "output_type": "stream",
     "text": [
      "The product of all elements in the list is: 720\n"
     ]
    }
   ],
   "source": [
    "my_list = [2, 3, 4, 5, 6]\n",
    "product = 1\n",
    "for element in my_list:\n",
    "    product *= element\n",
    "\n",
    "print(f\"The product of all elements in the list is: {product}\")"
   ]
  },
  {
   "cell_type": "markdown",
   "id": "32040c25",
   "metadata": {},
   "source": [
    "# 6. Create a Python program that prints all even numbers from 1 to 20 using a for loop."
   ]
  },
  {
   "cell_type": "code",
   "execution_count": 5,
   "id": "0c1c5f7b",
   "metadata": {},
   "outputs": [
    {
     "name": "stdout",
     "output_type": "stream",
     "text": [
      "2\n",
      "4\n",
      "6\n",
      "8\n",
      "10\n",
      "12\n",
      "14\n",
      "16\n",
      "18\n",
      "20\n"
     ]
    }
   ],
   "source": [
    "for i in range(2, 21, 2):\n",
    "    print(i)"
   ]
  },
  {
   "cell_type": "markdown",
   "id": "1c6a8efc",
   "metadata": {},
   "source": [
    "# 7. Write a Python program that calculates the factorial of a number using a for loop.\n"
   ]
  },
  {
   "cell_type": "code",
   "execution_count": 6,
   "id": "b84e11b1",
   "metadata": {},
   "outputs": [
    {
     "name": "stdout",
     "output_type": "stream",
     "text": [
      "Enter a number: 5\n",
      "The factorial of 5 is 120\n"
     ]
    }
   ],
   "source": [
    "num = int(input(\"Enter a number: \"))\n",
    "factorial = 1\n",
    "\n",
    "if num < 0:\n",
    "    print(\"Sorry, factorial does not exist for negative numbers\")\n",
    "elif num == 0:\n",
    "    print(\"The factorial of 0 is 1\")\n",
    "else:\n",
    "    for i in range(1, num + 1):\n",
    "        factorial *= i\n",
    "    print(f\"The factorial of {num} is {factorial}\")"
   ]
  },
  {
   "cell_type": "markdown",
   "id": "e3eeafee",
   "metadata": {},
   "source": [
    "# 8. How can you iterate through the characters of a string using a for loop in Python?"
   ]
  },
  {
   "cell_type": "code",
   "execution_count": 7,
   "id": "fe1cfa68",
   "metadata": {},
   "outputs": [
    {
     "name": "stdout",
     "output_type": "stream",
     "text": [
      "H\n",
      "e\n",
      "l\n",
      "l\n",
      "o\n",
      ",\n",
      " \n",
      "W\n",
      "o\n",
      "r\n",
      "l\n",
      "d\n",
      "!\n"
     ]
    }
   ],
   "source": [
    "my_string = \"Hello, World!\"\n",
    "for char in my_string:\n",
    "    print(char)"
   ]
  },
  {
   "cell_type": "markdown",
   "id": "d47d3ddb",
   "metadata": {},
   "source": [
    "# 9. Write a Python program to find the largest number in a list using a for loop."
   ]
  },
  {
   "cell_type": "code",
   "execution_count": 8,
   "id": "92046764",
   "metadata": {},
   "outputs": [
    {
     "name": "stdout",
     "output_type": "stream",
     "text": [
      "The largest number in the list is: 90\n"
     ]
    }
   ],
   "source": [
    "my_list = [12, 45, 78, 23, 56, 90, 34]\n",
    "largest = my_list[0]\n",
    "\n",
    "for num in my_list:\n",
    "    if num > largest:\n",
    "        largest = num\n",
    "\n",
    "print(f\"The largest number in the list is: {largest}\")"
   ]
  },
  {
   "cell_type": "markdown",
   "id": "8e6976a2",
   "metadata": {},
   "source": [
    "# 10. Create a Python program that prints the Fibonacci sequence up to a specified limit using a for loop.\n"
   ]
  },
  {
   "cell_type": "code",
   "execution_count": 9,
   "id": "7206efbf",
   "metadata": {},
   "outputs": [
    {
     "name": "stdout",
     "output_type": "stream",
     "text": [
      "Enter the limit for the Fibonacci sequence: 2222\n",
      "The Fibonacci sequence up to the specified limit is:\n",
      "0 1 1 2 3 5 8 13 21 34 55 89 144 233 377 610 987 1597 "
     ]
    }
   ],
   "source": [
    "limit = int(input(\"Enter the limit for the Fibonacci sequence: \"))\n",
    "\n",
    "\n",
    "num1, num2 = 0, 1\n",
    "\n",
    "\n",
    "fib_sequence = [num1, num2]\n",
    "\n",
    "\n",
    "for i in range(2, limit):\n",
    "    next_num = num1 + num2\n",
    "    if next_num <= limit:\n",
    "        fib_sequence.append(next_num)\n",
    "        num1, num2 = num2, next_num\n",
    "    else:\n",
    "        break\n",
    "\n",
    "\n",
    "print(\"The Fibonacci sequence up to the specified limit is:\")\n",
    "for num in fib_sequence:\n",
    "    print(num, end=\" \")\n"
   ]
  },
  {
   "cell_type": "markdown",
   "id": "5b75be26",
   "metadata": {},
   "source": [
    "# 11. Write a Python program to count the number of vowels in a given string using a for loop."
   ]
  },
  {
   "cell_type": "code",
   "execution_count": 1,
   "id": "fc84f947",
   "metadata": {},
   "outputs": [
    {
     "name": "stdout",
     "output_type": "stream",
     "text": [
      "Enter a string: pw skills\n",
      "The number of vowels in the string is: 1\n"
     ]
    }
   ],
   "source": [
    "def count_vowels(string):\n",
    "    count = 0\n",
    "    vowels = \"aeiouAEIOU\"\n",
    "    for char in string:\n",
    "        if char in vowels:\n",
    "            count += 1\n",
    "    return count\n",
    "\n",
    "\n",
    "input_string = input(\"Enter a string: \")\n",
    "num_vowels = count_vowels(input_string)\n",
    "print(f\"The number of vowels in the string is: {num_vowels}\")\n"
   ]
  },
  {
   "cell_type": "markdown",
   "id": "bea89f04",
   "metadata": {},
   "source": [
    "# 12. Create a Python program that generates a multiplication table for a given number using a for loop.\n"
   ]
  },
  {
   "cell_type": "code",
   "execution_count": 2,
   "id": "390bdbef",
   "metadata": {},
   "outputs": [
    {
     "name": "stdout",
     "output_type": "stream",
     "text": [
      "Enter a number: 19\n",
      "Enter the limit: 10\n",
      "Multiplication table for 19:\n",
      "19 x 1 = 19\n",
      "19 x 2 = 38\n",
      "19 x 3 = 57\n",
      "19 x 4 = 76\n",
      "19 x 5 = 95\n",
      "19 x 6 = 114\n",
      "19 x 7 = 133\n",
      "19 x 8 = 152\n",
      "19 x 9 = 171\n",
      "19 x 10 = 190\n"
     ]
    }
   ],
   "source": [
    "def multiplication_table(number, limit):\n",
    "    print(f\"Multiplication table for {number}:\")\n",
    "    for i in range(1, limit + 1):\n",
    "        print(f\"{number} x {i} = {number * i}\")\n",
    "\n",
    "\n",
    "input_number = int(input(\"Enter a number: \"))\n",
    "input_limit = int(input(\"Enter the limit: \"))\n",
    "multiplication_table(input_number, input_limit)\n"
   ]
  },
  {
   "cell_type": "markdown",
   "id": "dd2bdc9d",
   "metadata": {},
   "source": [
    "# 13. Write a Python program to reverse a list using a for loop."
   ]
  },
  {
   "cell_type": "code",
   "execution_count": 3,
   "id": "4b5aec68",
   "metadata": {},
   "outputs": [
    {
     "name": "stdout",
     "output_type": "stream",
     "text": [
      "The reversed list is: [5, 4, 3, 2, 1]\n"
     ]
    }
   ],
   "source": [
    "def reverse_list(input_list):\n",
    "    reversed_list = []\n",
    "    for i in range(len(input_list)-1, -1, -1):\n",
    "        reversed_list.append(input_list[i])\n",
    "    return reversed_list\n",
    "\n",
    "\n",
    "input_list = [1, 2, 3, 4, 5]\n",
    "reversed_result = reverse_list(input_list)\n",
    "print(f\"The reversed list is: {reversed_result}\")\n"
   ]
  },
  {
   "cell_type": "markdown",
   "id": "8bb5f6f1",
   "metadata": {},
   "source": [
    "# 14. Write a Python program to find the common elements between two lists using a for loop.\n"
   ]
  },
  {
   "cell_type": "code",
   "execution_count": 4,
   "id": "d61fd82a",
   "metadata": {},
   "outputs": [
    {
     "name": "stdout",
     "output_type": "stream",
     "text": [
      "The common elements between the two lists are: [3, 4, 5]\n"
     ]
    }
   ],
   "source": [
    "def find_common_elements(list1, list2):\n",
    "    common_elements = []\n",
    "    for element in list1:\n",
    "        if element in list2 and element not in common_elements:\n",
    "            common_elements.append(element)\n",
    "    return common_elements\n",
    "\n",
    "\n",
    "list1 = [1, 2, 3, 4, 5]\n",
    "list2 = [3, 4, 5, 6, 7]\n",
    "common_elements = find_common_elements(list1, list2)\n",
    "print(f\"The common elements between the two lists are: {common_elements}\")\n"
   ]
  },
  {
   "cell_type": "markdown",
   "id": "f49f0691",
   "metadata": {},
   "source": [
    "# 15. Explain how to use a for loop to iterate through the keys and values of a dictionary in Python."
   ]
  },
  {
   "cell_type": "code",
   "execution_count": 5,
   "id": "7c63282e",
   "metadata": {},
   "outputs": [
    {
     "name": "stdout",
     "output_type": "stream",
     "text": [
      "Key: a, Value: 1\n",
      "Key: b, Value: 2\n",
      "Key: c, Value: 3\n"
     ]
    }
   ],
   "source": [
    "my_dict = {\"a\": 1, \"b\": 2, \"c\": 3}\n",
    "\n",
    "\n",
    "for key in my_dict:\n",
    "    value = my_dict[key]\n",
    "    print(f\"Key: {key}, Value: {value}\")\n"
   ]
  },
  {
   "cell_type": "markdown",
   "id": "0b3997de",
   "metadata": {},
   "source": [
    "# 16. Write a Python program to find the GCD (Greatest Common Divisor) of two numbers using a for loop.\n"
   ]
  },
  {
   "cell_type": "code",
   "execution_count": 9,
   "id": "793bf0fa",
   "metadata": {},
   "outputs": [
    {
     "name": "stdout",
     "output_type": "stream",
     "text": [
      "Enter the first number: 1\n",
      "Enter the second number: 1\n",
      "The GCD of 1 and 1 is: 1\n"
     ]
    }
   ],
   "source": [
    "def gcd(a, b):\n",
    "    while b:\n",
    "        a, b = b, a % b\n",
    "    return a\n",
    "\n",
    "\n",
    "num1 = int(input(\"Enter the first number: \"))\n",
    "num2 = int(input(\"Enter the second number: \"))\n",
    "result = gcd(num1, num2)\n",
    "print(f\"The GCD of {num1} and {num2} is: {result}\")\n"
   ]
  },
  {
   "cell_type": "markdown",
   "id": "425dad98",
   "metadata": {},
   "source": [
    "# 17. Create a Python program that checks if a string is a palindrome using a for loop.\n"
   ]
  },
  {
   "cell_type": "code",
   "execution_count": 11,
   "id": "1bafc481",
   "metadata": {},
   "outputs": [
    {
     "name": "stdout",
     "output_type": "stream",
     "text": [
      "Enter a string: madam\n",
      "The string 'madam' is a palindrome.\n"
     ]
    }
   ],
   "source": [
    "def is_palindrome(s):\n",
    "    s = s.lower()\n",
    "    for i in range(len(s) // 2):\n",
    "        if s[i] != s[-i - 1]:\n",
    "            return False\n",
    "    return True\n",
    "\n",
    "\n",
    "input_string = input(\"Enter a string: \")\n",
    "if is_palindrome(input_string):\n",
    "    print(f\"The string '{input_string}' is a palindrome.\")\n",
    "else:\n",
    "    print(f\"The string '{input_string}' is not a palindrome.\")\n"
   ]
  },
  {
   "cell_type": "markdown",
   "id": "d152d013",
   "metadata": {},
   "source": [
    "# 18. Write a Python program to remove duplicates from a list using a for loop."
   ]
  },
  {
   "cell_type": "code",
   "execution_count": 12,
   "id": "a6c8eb9c",
   "metadata": {},
   "outputs": [
    {
     "name": "stdout",
     "output_type": "stream",
     "text": [
      "The list after removing duplicates is: [1, 2, 3, 4, 5]\n"
     ]
    }
   ],
   "source": [
    "def remove_duplicates(input_list):\n",
    "    new_list = []\n",
    "    for element in input_list:\n",
    "        if element not in new_list:\n",
    "            new_list.append(element)\n",
    "    return new_list\n",
    "\n",
    "\n",
    "input_list = [1, 2, 2, 3, 4, 4, 5, 5, 5]\n",
    "result = remove_duplicates(input_list)\n",
    "print(f\"The list after removing duplicates is: {result}\")\n"
   ]
  },
  {
   "cell_type": "markdown",
   "id": "5dfc71ea",
   "metadata": {},
   "source": [
    "# 19. Create a Python program that counts the number of words in a sentence using a for loop.\n"
   ]
  },
  {
   "cell_type": "code",
   "execution_count": 13,
   "id": "62f80c5b",
   "metadata": {},
   "outputs": [
    {
     "name": "stdout",
     "output_type": "stream",
     "text": [
      "Enter a sentence: student of pw skills\n",
      "The number of words in the sentence is: 4\n"
     ]
    }
   ],
   "source": [
    "def count_words(sentence):\n",
    "    word_count = 0\n",
    "    for word in sentence.split():\n",
    "        word_count += 1\n",
    "    return word_count\n",
    "\n",
    "\n",
    "input_sentence = input(\"Enter a sentence: \")\n",
    "num_words = count_words(input_sentence)\n",
    "print(f\"The number of words in the sentence is: {num_words}\")\n"
   ]
  },
  {
   "cell_type": "markdown",
   "id": "4199b993",
   "metadata": {},
   "source": [
    "# 20. Write a Python program to find the sum of all odd numbers from 1 to 50 using a for loop.\n"
   ]
  },
  {
   "cell_type": "code",
   "execution_count": 14,
   "id": "a8f9266c",
   "metadata": {},
   "outputs": [
    {
     "name": "stdout",
     "output_type": "stream",
     "text": [
      "The sum of all odd numbers from 1 to 50 is: 625\n"
     ]
    }
   ],
   "source": [
    "sum_odd = 0\n",
    "for i in range(1, 51, 2):  \n",
    "    sum_odd += i\n",
    "print(f\"The sum of all odd numbers from 1 to 50 is: {sum_odd}\")\n"
   ]
  },
  {
   "cell_type": "markdown",
   "id": "d31a4bea",
   "metadata": {},
   "source": [
    "# 21. Write a Python program that checks if a given year is a leap year using a for loop.\n"
   ]
  },
  {
   "cell_type": "code",
   "execution_count": 15,
   "id": "29a7d61d",
   "metadata": {},
   "outputs": [
    {
     "name": "stdout",
     "output_type": "stream",
     "text": [
      "Enter a year: 2024\n",
      "The year 2024 is a leap year.\n"
     ]
    }
   ],
   "source": [
    "def is_leap_year(year):\n",
    "    if year % 4 == 0:\n",
    "        if year % 100 == 0:\n",
    "            if year % 400 == 0:\n",
    "                return True\n",
    "            else:\n",
    "                return False\n",
    "        else:\n",
    "            return True\n",
    "    else:\n",
    "        return False\n",
    "\n",
    "\n",
    "input_year = int(input(\"Enter a year: \"))\n",
    "if is_leap_year(input_year):\n",
    "    print(f\"The year {input_year} is a leap year.\")\n",
    "else:\n",
    "    print(f\"The year {input_year} is not a leap year.\")\n"
   ]
  },
  {
   "cell_type": "markdown",
   "id": "c382770e",
   "metadata": {},
   "source": [
    "# 22. Create a Python program that calculates the square root of a number using a for loop.\n"
   ]
  },
  {
   "cell_type": "code",
   "execution_count": 16,
   "id": "1136ebab",
   "metadata": {},
   "outputs": [
    {
     "name": "stdout",
     "output_type": "stream",
     "text": [
      "Enter a number: 10\n",
      "The square root of 10.0 is approximately: 3.162278\n"
     ]
    }
   ],
   "source": [
    "def square_root(n, precision=1e-10):\n",
    "    guess = n\n",
    "    while abs(guess * guess - n) > precision:\n",
    "        guess = (guess + n / guess) / 2\n",
    "    return guess\n",
    "\n",
    "\n",
    "input_number = float(input(\"Enter a number: \"))\n",
    "result = square_root(input_number)\n",
    "print(f\"The square root of {input_number} is approximately: {result:.6f}\")\n"
   ]
  },
  {
   "cell_type": "markdown",
   "id": "05fd186d",
   "metadata": {},
   "source": [
    "# 23. Write a Python program to find the LCM (Least Common Multiple) of two numbers using a for loop.\n"
   ]
  },
  {
   "cell_type": "code",
   "execution_count": 17,
   "id": "433ef158",
   "metadata": {},
   "outputs": [
    {
     "name": "stdout",
     "output_type": "stream",
     "text": [
      "Enter the first number: 6\n",
      "Enter the second number: 4\n",
      "The LCM of 6 and 4 is: 12\n"
     ]
    }
   ],
   "source": [
    "def gcd(a, b):\n",
    "    while b:\n",
    "        a, b = b, a % b\n",
    "    return a\n",
    "\n",
    "def lcm(a, b):\n",
    "    return a * b // gcd(a, b)\n",
    "\n",
    "\n",
    "num1 = int(input(\"Enter the first number: \"))\n",
    "num2 = int(input(\"Enter the second number: \"))\n",
    "result = lcm(num1, num2)\n",
    "print(f\"The LCM of {num1} and {num2} is: {result}\")\n"
   ]
  },
  {
   "cell_type": "markdown",
   "id": "73d91f74",
   "metadata": {},
   "source": [
    "# If else :"
   ]
  },
  {
   "cell_type": "markdown",
   "id": "6bc5be2f",
   "metadata": {},
   "source": [
    "# 1. Write a Python program to check if a number is positive, negative, or zero using an if-else statement.\n"
   ]
  },
  {
   "cell_type": "code",
   "execution_count": 6,
   "id": "8209b321",
   "metadata": {},
   "outputs": [
    {
     "name": "stdout",
     "output_type": "stream",
     "text": [
      "Enter a number: 55\n",
      "The number is positive.\n"
     ]
    }
   ],
   "source": [
    "num = float(input(\"Enter a number: \"))\n",
    "\n",
    "# Check if the number is positive, negative, or zero\n",
    "if num > 0:\n",
    "    print(\"The number is positive.\")\n",
    "elif num < 0:\n",
    "    print(\"The number is negative.\")\n",
    "else:\n",
    "    print(\"The number is zero.\")\n"
   ]
  },
  {
   "cell_type": "markdown",
   "id": "24d59eac",
   "metadata": {},
   "source": [
    "# 2. Create a Python program that checks if a given number is even or odd using an if-else statement.\n"
   ]
  },
  {
   "cell_type": "code",
   "execution_count": 7,
   "id": "cadcc77a",
   "metadata": {},
   "outputs": [
    {
     "name": "stdout",
     "output_type": "stream",
     "text": [
      "Enter a number: 24\n",
      "The number 24 is even.\n"
     ]
    }
   ],
   "source": [
    "num = int(input(\"Enter a number: \"))\n",
    "\n",
    "# Check if the number is even or odd\n",
    "if num % 2 == 0:\n",
    "    print(f\"The number {num} is even.\")\n",
    "else:\n",
    "    print(f\"The number {num} is odd.\")\n"
   ]
  },
  {
   "cell_type": "markdown",
   "id": "74252caf",
   "metadata": {},
   "source": [
    "# 3. How can you use nested if-else statements in Python, and provide an example?\n"
   ]
  },
  {
   "cell_type": "code",
   "execution_count": 9,
   "id": "5dee157b",
   "metadata": {},
   "outputs": [
    {
     "name": "stdout",
     "output_type": "stream",
     "text": [
      "Please enter a number: 32\n",
      "The number is positive.\n"
     ]
    }
   ],
   "source": [
    "num = float(input(\"Please enter a number: \"))\n",
    "\n",
    "# Check the sign of the number using nested if-else statements\n",
    "if num >= 0:\n",
    "    if num == 0:\n",
    "        print(\"The number is zero.\")\n",
    "    else:\n",
    "        print(\"The number is positive.\")\n",
    "else:\n",
    "    print(\"The number is negative.\")\n"
   ]
  },
  {
   "cell_type": "markdown",
   "id": "0eb0e9a4",
   "metadata": {},
   "source": [
    "# 4. Write a Python program to determine the largest of three numbers using if-else.\n"
   ]
  },
  {
   "cell_type": "code",
   "execution_count": 11,
   "id": "a9fa964f",
   "metadata": {},
   "outputs": [
    {
     "name": "stdout",
     "output_type": "stream",
     "text": [
      "Enter the first number: 54\n",
      "Enter the second number: 32\n",
      "Enter the third number: 63\n",
      "The largest number is 63.0.\n"
     ]
    }
   ],
   "source": [
    "num1 = float(input(\"Enter the first number: \"))\n",
    "num2 = float(input(\"Enter the second number: \"))\n",
    "num3 = float(input(\"Enter the third number: \"))\n",
    "\n",
    "\n",
    "if num1 >= num2 and num1 >= num3:\n",
    "    largest = num1\n",
    "elif num2 >= num1 and num2 >= num3:\n",
    "    largest = num2\n",
    "else:\n",
    "    largest = num3\n",
    "\n",
    "\n",
    "print(f\"The largest number is {largest}.\")\n"
   ]
  },
  {
   "cell_type": "markdown",
   "id": "bc4e9489",
   "metadata": {},
   "source": [
    "# 5. Write a Python program that calculates the absolute value of a number using if-else.\n"
   ]
  },
  {
   "cell_type": "code",
   "execution_count": 12,
   "id": "5f65ed0b",
   "metadata": {},
   "outputs": [
    {
     "name": "stdout",
     "output_type": "stream",
     "text": [
      "Enter a number: 5\n",
      "The absolute value of 5.0 is 5.0.\n"
     ]
    }
   ],
   "source": [
    "num = float(input(\"Enter a number: \"))\n",
    "\n",
    "\n",
    "if num >= 0:\n",
    "    absolute_value = num\n",
    "else:\n",
    "    absolute_value = -num\n",
    "\n",
    "\n",
    "print(f\"The absolute value of {num} is {absolute_value}.\")\n"
   ]
  },
  {
   "cell_type": "markdown",
   "id": "79ed64f7",
   "metadata": {},
   "source": [
    "# 6. Create a Python program that checks if a given character is a vowel or consonant using if-else.\n"
   ]
  },
  {
   "cell_type": "code",
   "execution_count": 14,
   "id": "a3132998",
   "metadata": {},
   "outputs": [
    {
     "name": "stdout",
     "output_type": "stream",
     "text": [
      "Enter a character: i\n",
      "The character i is a vowel.\n"
     ]
    }
   ],
   "source": [
    "char = input(\"Enter a character: \")\n",
    "\n",
    "\n",
    "char = char.lower()\n",
    "\n",
    "\n",
    "if char in 'aeiou':\n",
    "    print(f\"The character {char} is a vowel.\")\n",
    "else:\n",
    "    print(f\"The character {char} is a consonant.\")\n"
   ]
  },
  {
   "cell_type": "markdown",
   "id": "857434e3",
   "metadata": {},
   "source": [
    "# 7. Write a Python program to determine if a user is eligible to vote based on their age using if-else.\n"
   ]
  },
  {
   "cell_type": "code",
   "execution_count": 15,
   "id": "6f77914e",
   "metadata": {},
   "outputs": [
    {
     "name": "stdout",
     "output_type": "stream",
     "text": [
      "Enter your age: 23\n",
      "You are eligible to vote.\n"
     ]
    }
   ],
   "source": [
    "age = int(input(\"Enter your age: \"))\n",
    "\n",
    "\n",
    "if age >= 18:\n",
    "    print(\"You are eligible to vote.\")\n",
    "else:\n",
    "    print(\"You are not eligible to vote yet.\")\n"
   ]
  },
  {
   "cell_type": "markdown",
   "id": "3da57e15",
   "metadata": {},
   "source": [
    "# 8. Create a Python program that calculates the discount amount based on the purchase amount using if-else.\n"
   ]
  },
  {
   "cell_type": "code",
   "execution_count": 16,
   "id": "258f92bf",
   "metadata": {},
   "outputs": [
    {
     "name": "stdout",
     "output_type": "stream",
     "text": [
      "Enter the purchase amount: 999\n",
      "The discount amount is: 99.9\n"
     ]
    }
   ],
   "source": [
    "purchase_amount = float(input(\"Enter the purchase amount: \"))\n",
    "\n",
    "\n",
    "discount_rate = 0.1  \n",
    "\n",
    "if purchase_amount > 100:\n",
    "    discount_amount = purchase_amount * discount_rate\n",
    "else:\n",
    "    discount_amount = 0\n",
    "\n",
    "\n",
    "print(f\"The discount amount is: {discount_amount}\")\n"
   ]
  },
  {
   "cell_type": "markdown",
   "id": "b428fd92",
   "metadata": {},
   "source": [
    "# 9. Write a Python program to check if a number is within a specified range using if-else.\n"
   ]
  },
  {
   "cell_type": "code",
   "execution_count": 17,
   "id": "04cc418a",
   "metadata": {},
   "outputs": [
    {
     "name": "stdout",
     "output_type": "stream",
     "text": [
      "Enter a number: 66\n",
      "The number 66.0 is outside the specified range.\n"
     ]
    }
   ],
   "source": [
    "number = float(input(\"Enter a number: \"))\n",
    "\n",
    "\n",
    "lower_limit = 10\n",
    "upper_limit = 50\n",
    "\n",
    "\n",
    "if number >= lower_limit and number <= upper_limit:\n",
    "    print(f\"The number {number} is within the specified range.\")\n",
    "else:\n",
    "    print(f\"The number {number} is outside the specified range.\")\n"
   ]
  },
  {
   "cell_type": "markdown",
   "id": "57391cd6",
   "metadata": {},
   "source": [
    "# 10. Create a Python program that determines the grade of a student based on their score using if-else.\n"
   ]
  },
  {
   "cell_type": "code",
   "execution_count": 18,
   "id": "a07fe0d9",
   "metadata": {},
   "outputs": [
    {
     "name": "stdout",
     "output_type": "stream",
     "text": [
      "Enter the student's score: 99\n",
      "The student's grade is: A\n"
     ]
    }
   ],
   "source": [
    "score = float(input(\"Enter the student's score: \"))\n",
    "\n",
    "\n",
    "if score >= 90:\n",
    "    grade = 'A'\n",
    "elif score >= 80:\n",
    "    grade = 'B'\n",
    "elif score >= 70:\n",
    "    grade = 'C'\n",
    "elif score >= 60:\n",
    "    grade = 'D'\n",
    "else:\n",
    "    grade = 'F'\n",
    "\n",
    "\n",
    "print(f\"The student's grade is: {grade}\")\n"
   ]
  },
  {
   "cell_type": "markdown",
   "id": "418ac382",
   "metadata": {},
   "source": [
    "# 11. Write a Python program to check if a string is empty or not using if-else.\n"
   ]
  },
  {
   "cell_type": "code",
   "execution_count": 19,
   "id": "c84599a2",
   "metadata": {},
   "outputs": [
    {
     "name": "stdout",
     "output_type": "stream",
     "text": [
      "Enter a string: hello\n",
      "The string is not empty.\n"
     ]
    }
   ],
   "source": [
    "\n",
    "string = input(\"Enter a string: \")\n",
    "\n",
    "\n",
    "if string:\n",
    "    print(\"The string is not empty.\")\n",
    "else:\n",
    "    print(\"The string is empty.\")\n"
   ]
  },
  {
   "cell_type": "markdown",
   "id": "30925c36",
   "metadata": {},
   "source": [
    "# 12.Create a Python program that identifies the type of a triangle (e.g., equilateral, isosceles, or scalene) based on input values using if-else.\n"
   ]
  },
  {
   "cell_type": "code",
   "execution_count": 20,
   "id": "8d37da65",
   "metadata": {},
   "outputs": [
    {
     "name": "stdout",
     "output_type": "stream",
     "text": [
      "Enter the length of the first side: 3\n",
      "Enter the length of the second side: 1\n",
      "Enter the length of the third side: 3\n",
      "The triangle is Isosceles.\n"
     ]
    }
   ],
   "source": [
    "side1 = float(input(\"Enter the length of the first side: \"))\n",
    "side2 = float(input(\"Enter the length of the second side: \"))\n",
    "side3 = float(input(\"Enter the length of the third side: \"))\n",
    "\n",
    "\n",
    "if side1 == side2 == side3:\n",
    "    triangle_type = \"Equilateral\"\n",
    "elif side1 == side2 or side1 == side3 or side2 == side3:\n",
    "    triangle_type = \"Isosceles\"\n",
    "else:\n",
    "    triangle_type = \"Scalene\"\n",
    "\n",
    "\n",
    "print(f\"The triangle is {triangle_type}.\")\n"
   ]
  },
  {
   "cell_type": "markdown",
   "id": "8e093850",
   "metadata": {},
   "source": [
    "# 13. Write a Python program to determine the day of the week based on a user-provided number using if-else.\n"
   ]
  },
  {
   "cell_type": "code",
   "execution_count": 22,
   "id": "5f2eb9be",
   "metadata": {},
   "outputs": [
    {
     "name": "stdout",
     "output_type": "stream",
     "text": [
      "Enter a number (1-7) representing the day of the week: 7\n",
      "The day is Sunday.\n"
     ]
    }
   ],
   "source": [
    "day_number = int(input(\"Enter a number (1-7) representing the day of the week: \"))\n",
    "\n",
    "\n",
    "if day_number == 1:\n",
    "    day = \"Monday\"\n",
    "elif day_number == 2:\n",
    "    day = \"Tuesday\"\n",
    "elif day_number == 3:\n",
    "    day = \"Wednesday\"\n",
    "elif day_number == 4:\n",
    "    day = \"Thursday\"\n",
    "elif day_number == 5:\n",
    "    day = \"Friday\"\n",
    "elif day_number == 6:\n",
    "    day = \"Saturday\"\n",
    "elif day_number == 7:\n",
    "    day = \"Sunday\"\n",
    "else:\n",
    "    day = \"Invalid input. Please enter a number between 1 and 7.\"\n",
    "\n",
    "\n",
    "print(f\"The day is {day}.\")\n"
   ]
  },
  {
   "cell_type": "markdown",
   "id": "80bd485f",
   "metadata": {},
   "source": [
    "# 14. Create a Python program that checks if a given year is a leap year using both if-else and a function.\n"
   ]
  },
  {
   "cell_type": "code",
   "execution_count": 23,
   "id": "6baea0b1",
   "metadata": {},
   "outputs": [
    {
     "name": "stdout",
     "output_type": "stream",
     "text": [
      "Enter a year: 2024\n",
      "The year 2024 is a leap year.\n"
     ]
    }
   ],
   "source": [
    "def is_leap_year(year):\n",
    "    if year % 4 == 0:\n",
    "        if year % 100 == 0:\n",
    "            if year % 400 == 0:\n",
    "                return True\n",
    "            else:\n",
    "                return False\n",
    "        else:\n",
    "            return True\n",
    "    else:\n",
    "        return False\n",
    "\n",
    "\n",
    "year = int(input(\"Enter a year: \"))\n",
    "\n",
    "\n",
    "if is_leap_year(year):\n",
    "    print(f\"The year {year} is a leap year.\")\n",
    "else:\n",
    "    print(f\"The year {year} is not a leap year.\")\n"
   ]
  },
  {
   "cell_type": "markdown",
   "id": "37aa4bd2",
   "metadata": {},
   "source": [
    "# 15. How do you use the \"assert\" statement in Python to add debugging checks within if-else blocks?\n"
   ]
  },
  {
   "cell_type": "code",
   "execution_count": 24,
   "id": "f16dabb5",
   "metadata": {},
   "outputs": [
    {
     "name": "stdout",
     "output_type": "stream",
     "text": [
      "Enter a positive number: 11\n",
      "The number is positive.\n"
     ]
    }
   ],
   "source": [
    "def check_positive_number(num):\n",
    "    assert num > 0, \"The number should be positive.\"\n",
    "    print(\"The number is positive.\")\n",
    "\n",
    "\n",
    "number = int(input(\"Enter a positive number: \"))\n",
    "check_positive_number(number)\n"
   ]
  },
  {
   "cell_type": "markdown",
   "id": "73d390e1",
   "metadata": {},
   "source": [
    "# 16. Create a Python program that determines the eligibility of a person for a senior citizen discount based on age using if-else.\n"
   ]
  },
  {
   "cell_type": "code",
   "execution_count": 25,
   "id": "55cad642",
   "metadata": {},
   "outputs": [
    {
     "name": "stdout",
     "output_type": "stream",
     "text": [
      "Enter your age: 22\n",
      "You are not yet eligible for the senior citizen discount.\n"
     ]
    }
   ],
   "source": [
    "age = int(input(\"Enter your age: \"))\n",
    "\n",
    "\n",
    "senior_age_threshold = 60\n",
    "\n",
    "\n",
    "if age >= senior_age_threshold:\n",
    "    print(\"You are eligible for the senior citizen discount.\")\n",
    "else:\n",
    "    print(\"You are not yet eligible for the senior citizen discount.\")\n"
   ]
  },
  {
   "cell_type": "markdown",
   "id": "82cc65ba",
   "metadata": {},
   "source": [
    "# 17. Write a Python program to categorize a given character as uppercase, lowercase, or neither using if-else.\n"
   ]
  },
  {
   "cell_type": "code",
   "execution_count": 27,
   "id": "6812b8c3",
   "metadata": {},
   "outputs": [
    {
     "name": "stdout",
     "output_type": "stream",
     "text": [
      "Enter a character: d\n",
      "The character is lowercase.\n"
     ]
    }
   ],
   "source": [
    "char = input(\"Enter a character: \")\n",
    "\n",
    "\n",
    "if char.islower():\n",
    "    print(\"The character is lowercase.\")\n",
    "elif char.isupper():\n",
    "    print(\"The character is uppercase.\")\n",
    "else:\n",
    "    print(\"The character is neither uppercase nor lowercase.\")\n"
   ]
  },
  {
   "cell_type": "markdown",
   "id": "dc03c26d",
   "metadata": {},
   "source": [
    "# 18. Write a Python program to determine the roots of a quadratic equation using if-else.\n"
   ]
  },
  {
   "cell_type": "code",
   "execution_count": 28,
   "id": "2a2be692",
   "metadata": {},
   "outputs": [
    {
     "name": "stdout",
     "output_type": "stream",
     "text": [
      "Enter the coefficient a: 2224.6\n",
      "Enter the coefficient b: 255.8\n",
      "Enter the coefficient c: 2345.8\n",
      "The equation has two complex roots: (-0.05749348197428752+1.0252688447946599j) and (-0.05749348197428752-1.0252688447946599j)\n"
     ]
    }
   ],
   "source": [
    "import cmath\n",
    "\n",
    "\n",
    "a = float(input(\"Enter the coefficient a: \"))\n",
    "b = float(input(\"Enter the coefficient b: \"))\n",
    "c = float(input(\"Enter the coefficient c: \"))\n",
    "\n",
    "\n",
    "d = b**2 - 4*a*c\n",
    "\n",
    "\n",
    "if d == 0:\n",
    "    root = -b / (2*a)\n",
    "    print(f\"The equation has one real root: {root}\")\n",
    "elif d > 0:\n",
    "    root1 = (-b + d**0.5) / (2*a)\n",
    "    root2 = (-b - d**0.5) / (2*a)\n",
    "    print(f\"The equation has two real roots: {root1} and {root2}\")\n",
    "else:\n",
    "    root1 = (-b + cmath.sqrt(d)) / (2*a)\n",
    "    root2 = (-b - cmath.sqrt(d)) / (2*a)\n",
    "    print(f\"The equation has two complex roots: {root1} and {root2}\")\n"
   ]
  },
  {
   "cell_type": "markdown",
   "id": "7a57414e",
   "metadata": {},
   "source": [
    "# 19. Create a Python program that checks if a given year is a century year or not using if-else"
   ]
  },
  {
   "cell_type": "code",
   "execution_count": 29,
   "id": "d53fb5ce",
   "metadata": {},
   "outputs": [
    {
     "name": "stdout",
     "output_type": "stream",
     "text": [
      "Enter a year: 2025\n",
      "The year 2025 is not a century year.\n"
     ]
    }
   ],
   "source": [
    "year = int(input(\"Enter a year: \"))\n",
    "\n",
    "\n",
    "if year % 100 == 0:\n",
    "    print(f\"The year {year} is a century year.\")\n",
    "else:\n",
    "    print(f\"The year {year} is not a century year.\")\n"
   ]
  },
  {
   "cell_type": "markdown",
   "id": "d35fd630",
   "metadata": {},
   "source": [
    "# 20. Write a Python program to determine if a given number is a perfect square using if-else.\n"
   ]
  },
  {
   "cell_type": "code",
   "execution_count": 33,
   "id": "c4bcdac0",
   "metadata": {},
   "outputs": [
    {
     "name": "stdout",
     "output_type": "stream",
     "text": [
      "Enter a number: 16\n",
      "The number 16 is a perfect square.\n"
     ]
    }
   ],
   "source": [
    "number = int(input(\"Enter a number: \"))\n",
    "\n",
    "\n",
    "if number >= 0:\n",
    "    sqrt = number ** 0.5\n",
    "    if int(sqrt + 0.5) ** 2 == number:\n",
    "        print(f\"The number {number} is a perfect square.\")\n",
    "    else:\n",
    "        print(f\"The number {number} is not a perfect square.\")\n",
    "else:\n",
    "    print(\"Please enter a non-negative number.\")\n"
   ]
  },
  {
   "cell_type": "markdown",
   "id": "deca9edf",
   "metadata": {},
   "source": [
    "# 21. Explain the purpose of the \"continue\" and \"break\" statements within if-else loops.\n"
   ]
  },
  {
   "cell_type": "code",
   "execution_count": 34,
   "id": "f6952a83",
   "metadata": {},
   "outputs": [
    {
     "name": "stdout",
     "output_type": "stream",
     "text": [
      "0\n",
      "1\n",
      "2\n"
     ]
    }
   ],
   "source": [
    "for i in range(5):\n",
    "    if i == 3:\n",
    "        break\n",
    "    print(i)"
   ]
  },
  {
   "cell_type": "markdown",
   "id": "1282c123",
   "metadata": {},
   "source": [
    "# 22. Create a Python program that calculates the BMI (Body Mass Index) of a person based on their weight and height using if-else.\n"
   ]
  },
  {
   "cell_type": "code",
   "execution_count": 36,
   "id": "8868de37",
   "metadata": {},
   "outputs": [
    {
     "name": "stdout",
     "output_type": "stream",
     "text": [
      "Enter your weight in kilograms: 6\n",
      "Enter your height in meters: 5\n",
      "Your BMI is: 0.24\n",
      "You are categorized as: Underweight\n"
     ]
    }
   ],
   "source": [
    "weight = float(input(\"Enter your weight in kilograms: \"))\n",
    "height = float(input(\"Enter your height in meters: \"))\n",
    "\n",
    "\n",
    "bmi = weight / (height ** 2)\n",
    "\n",
    "\n",
    "if bmi < 18.5:\n",
    "    category = \"Underweight\"\n",
    "elif 18.5 <= bmi < 25:\n",
    "    category = \"Normal weight\"\n",
    "elif 25 <= bmi < 30:\n",
    "    category = \"Overweight\"\n",
    "else:\n",
    "    category = \"Obese\"\n",
    "\n",
    "\n",
    "print(f\"Your BMI is: {bmi:.2f}\")\n",
    "print(f\"You are categorized as: {category}\")\n"
   ]
  },
  {
   "cell_type": "markdown",
   "id": "fe0c8ec3",
   "metadata": {},
   "source": [
    "# 23. How can you use the \"filter()\" function with if-else statements to filter elements from a list?"
   ]
  },
  {
   "cell_type": "code",
   "execution_count": 37,
   "id": "9ad2520c",
   "metadata": {},
   "outputs": [
    {
     "name": "stdout",
     "output_type": "stream",
     "text": [
      "[2, 4, 6, 8, 10]\n"
     ]
    }
   ],
   "source": [
    "my_list = [1, 2, 3, 4, 5, 6, 7, 8, 9, 10]\n",
    "\n",
    "\n",
    "filtered_list = list(filter(lambda x: True if x % 2 == 0 else False, my_list))\n",
    "\n",
    "\n",
    "print(filtered_list)\n"
   ]
  },
  {
   "cell_type": "markdown",
   "id": "29556a0c",
   "metadata": {},
   "source": [
    "# 24. Write a Python program to determine if a given number is prime or not using if-else.\n"
   ]
  },
  {
   "cell_type": "code",
   "execution_count": 38,
   "id": "e5278c0b",
   "metadata": {},
   "outputs": [
    {
     "name": "stdout",
     "output_type": "stream",
     "text": [
      "Enter a number: 79\n",
      "79 is a prime number.\n"
     ]
    }
   ],
   "source": [
    "num = int(input(\"Enter a number: \"))\n",
    "\n",
    "\n",
    "if num > 1:\n",
    "    for i in range(2, int(num**0.5) + 1):\n",
    "        if (num % i) == 0:\n",
    "            print(f\"{num} is not a prime number.\")\n",
    "            break\n",
    "    else:\n",
    "        print(f\"{num} is a prime number.\")\n",
    "else:\n",
    "    print(f\"{num} is not a prime number.\")\n"
   ]
  },
  {
   "cell_type": "markdown",
   "id": "dc80d4a0",
   "metadata": {},
   "source": [
    "# Map :-\n"
   ]
  },
  {
   "cell_type": "markdown",
   "id": "65dda8d8",
   "metadata": {},
   "source": [
    "# 1. Explain the purpose of the `map()` function in Python and provide an example of how it can be used to apply a function to each element of an iterable.\n"
   ]
  },
  {
   "cell_type": "code",
   "execution_count": 40,
   "id": "df22555f",
   "metadata": {},
   "outputs": [
    {
     "name": "stdout",
     "output_type": "stream",
     "text": [
      "[1, 4, 9, 16, 25]\n"
     ]
    }
   ],
   "source": [
    "def square(x):\n",
    "    return x ** 2\n",
    "\n",
    "\n",
    "my_list = [1, 2, 3, 4, 5]\n",
    "\n",
    "\n",
    "squared_list = list(map(square, my_list))\n",
    "\n",
    "\n",
    "print(squared_list)\n"
   ]
  },
  {
   "cell_type": "markdown",
   "id": "d2716ce2",
   "metadata": {},
   "source": [
    "# 2. Write a Python program that uses the `map()` function to square each element of a list of numbers.\n"
   ]
  },
  {
   "cell_type": "code",
   "execution_count": 41,
   "id": "c1de8f43",
   "metadata": {},
   "outputs": [
    {
     "name": "stdout",
     "output_type": "stream",
     "text": [
      "[1, 4, 9, 16, 25]\n"
     ]
    }
   ],
   "source": [
    "my_list = [1, 2, 3, 4, 5]\n",
    "\n",
    "\n",
    "def square(x):\n",
    "    return x ** 2\n",
    "\n",
    "\n",
    "squared_list = list(map(square, my_list))\n",
    "\n",
    "\n",
    "print(squared_list)\n"
   ]
  },
  {
   "cell_type": "markdown",
   "id": "af825d93",
   "metadata": {},
   "source": [
    "# 3. How does the `map()` function differ from a list comprehension in Python, and when would you choose one over the other?"
   ]
  },
  {
   "cell_type": "code",
   "execution_count": null,
   "id": "2c7d6ec7",
   "metadata": {},
   "outputs": [],
   "source": [
    "The map() function and list comprehensions in Python both serve similar purposes, allowing you to apply a transformation to each element of an iterable. However, they differ in syntax and usage, and the choice between them often depends on personal preference and specific use cases.\n",
    "\n",
    "\n",
    "-map() takes a function and an iterable as input, and it returns an iterator that applies the function to each element of the iterable.\n",
    "\n",
    "-List comprehensions use a more concise and intuitive syntax that allows you to apply an expression to each element of an iterable and generate a new list.\n",
    "\n",
    "-List comprehensions are often considered more readable and expressive, especially for simple operations on elements of a list.\n",
    "\n",
    "-map() may be less intuitive for some people and can be more difficult to read, particularly when combined with lambda functions."
   ]
  },
  {
   "cell_type": "markdown",
   "id": "85d63cf6",
   "metadata": {},
   "source": [
    "# 4. Create a Python program that uses the `map()` function to convert a list of names to uppercase."
   ]
  },
  {
   "cell_type": "code",
   "execution_count": 43,
   "id": "b08927e1",
   "metadata": {},
   "outputs": [
    {
     "name": "stdout",
     "output_type": "stream",
     "text": [
      "['ALICE', 'BOB', 'CHARLIE', 'DAVID', 'EMILY']\n"
     ]
    }
   ],
   "source": [
    "names = [\"alice\", \"bob\", \"charlie\", \"david\", \"emily\"]\n",
    "\n",
    "\n",
    "upper_names = list(map(str.upper, names))\n",
    "\n",
    "\n",
    "print(upper_names)\n"
   ]
  },
  {
   "cell_type": "markdown",
   "id": "134c4a04",
   "metadata": {},
   "source": [
    "# 5. Write a Python program that uses the `map()` function to calculate the length of each word in a list of strings.\n"
   ]
  },
  {
   "cell_type": "code",
   "execution_count": 44,
   "id": "65300e53",
   "metadata": {},
   "outputs": [
    {
     "name": "stdout",
     "output_type": "stream",
     "text": [
      "[5, 6, 6, 4, 10]\n"
     ]
    }
   ],
   "source": [
    "strings = [\"apple\", \"banana\", \"cherry\", \"date\", \"elderberry\"]\n",
    "\n",
    "\n",
    "lengths = list(map(len, strings))\n",
    "\n",
    "\n",
    "print(lengths)\n"
   ]
  },
  {
   "cell_type": "markdown",
   "id": "e214b208",
   "metadata": {},
   "source": [
    "# 6. How can you use the `map()` function to apply a custom function to elements of multiple lists simultaneously in Python?\n"
   ]
  },
  {
   "cell_type": "code",
   "execution_count": 45,
   "id": "a45adfb5",
   "metadata": {},
   "outputs": [
    {
     "name": "stdout",
     "output_type": "stream",
     "text": [
      "[7, 9, 11, 13, 15]\n"
     ]
    }
   ],
   "source": [
    "list1 = [1, 2, 3, 4, 5]\n",
    "list2 = [6, 7, 8, 9, 10]\n",
    "\n",
    "\n",
    "def add_lists(x, y):\n",
    "    return x + y\n",
    "\n",
    "\n",
    "result = list(map(add_lists, list1, list2))\n",
    "\n",
    "\n",
    "print(result)\n"
   ]
  },
  {
   "cell_type": "markdown",
   "id": "e4b28283",
   "metadata": {},
   "source": [
    "# 7. Create a Python program that uses `map()` to convert a list of temperatures from Celsius to Fahrenheit.\n"
   ]
  },
  {
   "cell_type": "code",
   "execution_count": 46,
   "id": "a67b6375",
   "metadata": {},
   "outputs": [
    {
     "name": "stdout",
     "output_type": "stream",
     "text": [
      "[32.0, 50.0, 68.0, 86.0, 104.0]\n"
     ]
    }
   ],
   "source": [
    "celsius_temperatures = [0, 10, 20, 30, 40]\n",
    "\n",
    "\n",
    "def celsius_to_fahrenheit(celsius):\n",
    "    return (celsius * 9/5) + 32\n",
    "\n",
    "\n",
    "fahrenheit_temperatures = list(map(celsius_to_fahrenheit, celsius_temperatures))\n",
    "\n",
    "\n",
    "print(fahrenheit_temperatures)\n"
   ]
  },
  {
   "cell_type": "markdown",
   "id": "13b42397",
   "metadata": {},
   "source": [
    "# 8. Write a Python program that uses the `map()` function to round each element of a list of floating-point numbers to the nearest integer.\n",
    "\n",
    "\n"
   ]
  },
  {
   "cell_type": "code",
   "execution_count": 47,
   "id": "e81b7fdd",
   "metadata": {},
   "outputs": [
    {
     "name": "stdout",
     "output_type": "stream",
     "text": [
      "[3, 3, 1, 1, 5]\n"
     ]
    }
   ],
   "source": [
    "float_numbers = [3.14, 2.718, 1.414, 0.577, 4.669]\n",
    "\n",
    "\n",
    "rounded_numbers = list(map(round, float_numbers))\n",
    "\n",
    "\n",
    "print(rounded_numbers)\n"
   ]
  },
  {
   "cell_type": "markdown",
   "id": "ced438e0",
   "metadata": {},
   "source": [
    "# Reduce :-\n"
   ]
  },
  {
   "cell_type": "markdown",
   "id": "e535401a",
   "metadata": {},
   "source": [
    "# 1. What is the `reduce()` function in Python, and what module should you import to use it? Provide an example of its basic usage.\n"
   ]
  },
  {
   "cell_type": "code",
   "execution_count": 48,
   "id": "8e8c6b6f",
   "metadata": {},
   "outputs": [
    {
     "name": "stdout",
     "output_type": "stream",
     "text": [
      "15\n"
     ]
    }
   ],
   "source": [
    "from functools import reduce\n",
    "\n",
    "\n",
    "numbers = [1, 2, 3, 4, 5]\n",
    "\n",
    "\n",
    "def add(x, y):\n",
    "    return x + y\n",
    "\n",
    "result = reduce(add, numbers)\n",
    "\n",
    "\n",
    "print(result)\n"
   ]
  },
  {
   "cell_type": "markdown",
   "id": "b2c027ce",
   "metadata": {},
   "source": [
    "# 2. Write a Python program that uses the `reduce()` function to find the product of all elements in a list.\n"
   ]
  },
  {
   "cell_type": "code",
   "execution_count": 49,
   "id": "09119603",
   "metadata": {},
   "outputs": [
    {
     "name": "stdout",
     "output_type": "stream",
     "text": [
      "120\n"
     ]
    }
   ],
   "source": [
    "from functools import reduce\n",
    "\n",
    "numbers = [1, 2, 3, 4, 5]\n",
    "def multiply(x, y):\n",
    "    return x * y\n",
    "product = reduce(multiply, numbers)\n",
    "print(product)\n"
   ]
  },
  {
   "cell_type": "markdown",
   "id": "e38defbe",
   "metadata": {},
   "source": [
    "# 3. Create a Python program that uses `reduce()` to find the maximum element in a list of numbers.\n"
   ]
  },
  {
   "cell_type": "code",
   "execution_count": 50,
   "id": "8ae7a028",
   "metadata": {},
   "outputs": [
    {
     "name": "stdout",
     "output_type": "stream",
     "text": [
      "15\n"
     ]
    }
   ],
   "source": [
    "from functools import reduce\n",
    "\n",
    "numbers = [5, 12, 3, 8, 9, 6, 15, 1]\n",
    "max_number = reduce(lambda x, y: x if x > y else y, numbers)\n",
    "print(max_number)\n"
   ]
  },
  {
   "cell_type": "markdown",
   "id": "ffe2aab4",
   "metadata": {},
   "source": [
    "# 4. How can you use the `reduce()` function to concatenate a list of strings into a single string?\n"
   ]
  },
  {
   "cell_type": "code",
   "execution_count": 51,
   "id": "41444cf5",
   "metadata": {},
   "outputs": [
    {
     "name": "stdout",
     "output_type": "stream",
     "text": [
      "Hello world!\n"
     ]
    }
   ],
   "source": [
    "from functools import reduce\n",
    "\n",
    "\n",
    "strings = [\"Hello\", \" \", \"world\", \"!\"]\n",
    "\n",
    "\n",
    "concatenated_string = reduce(lambda x, y: x + y, strings)\n",
    "\n",
    "\n",
    "print(concatenated_string)\n"
   ]
  },
  {
   "cell_type": "markdown",
   "id": "8ccf9537",
   "metadata": {},
   "source": [
    "# 5. Write a Python program that calculates the factorial of a number using the `reduce()` function."
   ]
  },
  {
   "cell_type": "code",
   "execution_count": 52,
   "id": "8352b07e",
   "metadata": {},
   "outputs": [
    {
     "name": "stdout",
     "output_type": "stream",
     "text": [
      "The factorial of 5 is 120.\n"
     ]
    }
   ],
   "source": [
    "from functools import reduce\n",
    "n = 5\n",
    "factorial = reduce(lambda x, y: x * y, range(1, n+1), 1)\n",
    "print(f\"The factorial of {n} is {factorial}.\")\n"
   ]
  },
  {
   "cell_type": "markdown",
   "id": "993d0b65",
   "metadata": {},
   "source": [
    "# 6. Create a Python program that uses `reduce()` to find the GCD (Greatest Common Divisor) of a list of numbers."
   ]
  },
  {
   "cell_type": "code",
   "execution_count": 54,
   "id": "48b52896",
   "metadata": {},
   "outputs": [
    {
     "name": "stdout",
     "output_type": "stream",
     "text": [
      "12\n"
     ]
    }
   ],
   "source": [
    "from functools import reduce\n",
    "from math import gcd\n",
    "numbers = [24, 36, 48, 60, 72]\n",
    "gcd_result = reduce(gcd, numbers)\n",
    "print(gcd_result)"
   ]
  },
  {
   "cell_type": "markdown",
   "id": "aa2b8d5f",
   "metadata": {},
   "source": [
    "# 7. Write a Python program that uses the `reduce()` function to find the sum of the digits of a given number."
   ]
  },
  {
   "cell_type": "code",
   "execution_count": 55,
   "id": "8eaa2056",
   "metadata": {},
   "outputs": [
    {
     "name": "stdout",
     "output_type": "stream",
     "text": [
      "The sum of the digits of 12345 is 15.\n"
     ]
    }
   ],
   "source": [
    "from functools import reduce\n",
    "number = 12345\n",
    "digit_sum = reduce(lambda x, y: int(x) + int(y), str(number))\n",
    "print(f\"The sum of the digits of {number} is {digit_sum}.\")"
   ]
  },
  {
   "cell_type": "markdown",
   "id": "cf06b8e6",
   "metadata": {},
   "source": [
    "# Filter :-\n"
   ]
  },
  {
   "cell_type": "markdown",
   "id": "4b26098d",
   "metadata": {},
   "source": [
    "# 1. Explain the purpose of the `filter()` function in Python and provide an example of how it can be used to filter elements from an iterable.\n"
   ]
  },
  {
   "cell_type": "code",
   "execution_count": 1,
   "id": "5e5974da",
   "metadata": {},
   "outputs": [
    {
     "name": "stdout",
     "output_type": "stream",
     "text": [
      "[2, 4, 6, 8, 10]\n"
     ]
    }
   ],
   "source": [
    "def is_even(num):\n",
    "    return num % 2 == 0\n",
    "\n",
    "\n",
    "numbers = [1, 2, 3, 4, 5, 6, 7, 8, 9, 10]\n",
    "\n",
    "\n",
    "filtered_result = filter(is_even, numbers)\n",
    "\n",
    "\n",
    "even_numbers = list(filtered_result)\n",
    "\n",
    "\n",
    "print(even_numbers)\n"
   ]
  },
  {
   "cell_type": "markdown",
   "id": "81a9476a",
   "metadata": {},
   "source": [
    "# 2. Write a Python program that uses the `filter()` function to select even numbers from a list of integers.\n"
   ]
  },
  {
   "cell_type": "code",
   "execution_count": 2,
   "id": "da97e2c7",
   "metadata": {},
   "outputs": [
    {
     "name": "stdout",
     "output_type": "stream",
     "text": [
      "Even numbers: [2, 4, 6, 8, 10]\n"
     ]
    }
   ],
   "source": [
    "numbers = [1, 2, 3, 4, 5, 6, 7, 8, 9, 10]\n",
    "\n",
    "even_numbers = list(filter(lambda x: x % 2 == 0, numbers))\n",
    "print(\"Even numbers:\", even_numbers)\n"
   ]
  },
  {
   "cell_type": "markdown",
   "id": "47ffaa6a",
   "metadata": {},
   "source": [
    "# 3.Create a Python program that uses the `filter()` function to select names that start with a specific letter from a list of strings."
   ]
  },
  {
   "cell_type": "code",
   "execution_count": 3,
   "id": "ddf0b8a6",
   "metadata": {},
   "outputs": [
    {
     "name": "stdout",
     "output_type": "stream",
     "text": [
      "Names that start with the letter 'C': ['Charlie']\n"
     ]
    }
   ],
   "source": [
    "names = [\"Alice\", \"Bob\", \"Charlie\", \"David\", \"Eva\", \"Frank\", \"Grace\"]\n",
    "\n",
    "specific_letter = \"C\"\n",
    "\n",
    "\n",
    "selected_names = list(filter(lambda name: name.startswith(specific_letter), names))\n",
    "\n",
    "\n",
    "print(f\"Names that start with the letter '{specific_letter}': {selected_names}\")\n"
   ]
  },
  {
   "cell_type": "markdown",
   "id": "2adc0b41",
   "metadata": {},
   "source": [
    "# 4. Create a Python program that uses the `filter()` function to select names that start with a specific letter from a list of strings."
   ]
  },
  {
   "cell_type": "code",
   "execution_count": 4,
   "id": "55f56c12",
   "metadata": {},
   "outputs": [
    {
     "name": "stdout",
     "output_type": "stream",
     "text": [
      "Names that start with the letter 'C': ['Charlie']\n"
     ]
    }
   ],
   "source": [
    "names = [\"Alice\", \"Bob\", \"Charlie\", \"David\", \"Eva\", \"Frank\", \"Grace\"]\n",
    "\n",
    "\n",
    "specific_letter = \"C\"\n",
    "\n",
    "def starts_with_specific_letter(name):\n",
    "    return name.startswith(specific_letter)\n",
    "\n",
    "selected_names = list(filter(starts_with_specific_letter, names))\n",
    "\n",
    "\n",
    "print(f\"Names that start with the letter '{specific_letter}': {selected_names}\")\n"
   ]
  },
  {
   "cell_type": "markdown",
   "id": "d8f8e37d",
   "metadata": {},
   "source": [
    "# 4.Write a Python program that uses the `filter()` function to select prime numbers from a list of integers."
   ]
  },
  {
   "cell_type": "code",
   "execution_count": 5,
   "id": "bacf215e",
   "metadata": {},
   "outputs": [
    {
     "name": "stdout",
     "output_type": "stream",
     "text": [
      "Prime numbers: [2, 3, 5, 7, 11, 13]\n"
     ]
    }
   ],
   "source": [
    "def is_prime(n):\n",
    "    if n <= 1:\n",
    "        return False\n",
    "    for i in range(2, int(n**0.5) + 1):\n",
    "        if n % i == 0:\n",
    "            return False\n",
    "    return True\n",
    "\n",
    "\n",
    "numbers = [2, 3, 4, 5, 6, 7, 8, 9, 10, 11, 12, 13, 14, 15]\n",
    "\n",
    "\n",
    "prime_numbers = list(filter(is_prime, numbers))\n",
    "\n",
    "\n",
    "print(\"Prime numbers:\", prime_numbers)\n"
   ]
  },
  {
   "cell_type": "markdown",
   "id": "bc0f0cf9",
   "metadata": {},
   "source": [
    "# 5. How can you use the `filter()` function to remove None values from a list in Python?"
   ]
  },
  {
   "cell_type": "code",
   "execution_count": 6,
   "id": "85c96eab",
   "metadata": {},
   "outputs": [
    {
     "name": "stdout",
     "output_type": "stream",
     "text": [
      "Filtered list: [1, 2, 3, 4, 5, 6, 7, 8, 9]\n"
     ]
    }
   ],
   "source": [
    "my_list = [1, 2, None, 3, 4, None, 5, None, 6, 7, None, 8, 9, None]\n",
    "\n",
    "\n",
    "filtered_list = list(filter(None, my_list))\n",
    "\n",
    "\n",
    "print(\"Filtered list:\", filtered_list)\n"
   ]
  },
  {
   "cell_type": "markdown",
   "id": "e4f2d039",
   "metadata": {},
   "source": [
    "# 6. Create a Python program that uses `filter()` to select words longer than a certain length from a list of strings."
   ]
  },
  {
   "cell_type": "code",
   "execution_count": 7,
   "id": "e55f102b",
   "metadata": {},
   "outputs": [
    {
     "name": "stdout",
     "output_type": "stream",
     "text": [
      "Words longer than 6 characters: ['pineapple']\n"
     ]
    }
   ],
   "source": [
    "words = [\"apple\", \"banana\", \"grape\", \"orange\", \"kiwi\", \"mango\", \"pineapple\"]\n",
    "\n",
    "\n",
    "min_length = 6\n",
    "\n",
    "\n",
    "filtered_words = list(filter(lambda x: len(x) > min_length, words))\n",
    "\n",
    "\n",
    "print(f\"Words longer than {min_length} characters: {filtered_words}\")\n"
   ]
  },
  {
   "cell_type": "markdown",
   "id": "a670daae",
   "metadata": {},
   "source": [
    "# 7. Write a Python program that uses the `filter()` function to select elements greater than a specified threshold from a list of values.\n"
   ]
  },
  {
   "cell_type": "code",
   "execution_count": 8,
   "id": "51fde46f",
   "metadata": {},
   "outputs": [
    {
     "name": "stdout",
     "output_type": "stream",
     "text": [
      "Values greater than 20: [25, 30, 35, 40]\n"
     ]
    }
   ],
   "source": [
    "values = [1, 5, 10, 15, 20, 25, 30, 35, 40]\n",
    "\n",
    "threshold = 20\n",
    "\n",
    "filtered_values = list(filter(lambda x: x > threshold, values))\n",
    "\n",
    "print(f\"Values greater than {threshold}: {filtered_values}\")\n"
   ]
  },
  {
   "cell_type": "markdown",
   "id": "f2c163b1",
   "metadata": {},
   "source": [
    "# Recursion:-\n"
   ]
  },
  {
   "cell_type": "markdown",
   "id": "1d1fc236",
   "metadata": {},
   "source": [
    "# 1. Explain the concept of recursion in Python. How does it differ from iteration?"
   ]
  },
  {
   "cell_type": "code",
   "execution_count": 9,
   "id": "585e46be",
   "metadata": {},
   "outputs": [
    {
     "name": "stdout",
     "output_type": "stream",
     "text": [
      "120\n"
     ]
    }
   ],
   "source": [
    "def factorial(n):\n",
    "    if n == 0:\n",
    "        return 1\n",
    "    else:\n",
    "        return n * factorial(n - 1)\n",
    "\n",
    "result = factorial(5)\n",
    "print(result)  \n"
   ]
  },
  {
   "cell_type": "markdown",
   "id": "999544ca",
   "metadata": {},
   "source": [
    "# 2. Write a Python program to calculate the factorial of a number using recursion."
   ]
  },
  {
   "cell_type": "code",
   "execution_count": 10,
   "id": "c06c1e56",
   "metadata": {},
   "outputs": [
    {
     "name": "stdout",
     "output_type": "stream",
     "text": [
      "The factorial of 5 is 120.\n"
     ]
    }
   ],
   "source": [
    "def factorial(n):\n",
    "    if n == 0:\n",
    "        return 1\n",
    "    else:\n",
    "        return n * factorial(n - 1)\n",
    "\n",
    "\n",
    "number = 5\n",
    "result = factorial(number)\n",
    "print(f\"The factorial of {number} is {result}.\")\n"
   ]
  },
  {
   "cell_type": "markdown",
   "id": "dd223f11",
   "metadata": {},
   "source": [
    "# 3. Create a recursive Python function to find the nth Fibonacci number."
   ]
  },
  {
   "cell_type": "code",
   "execution_count": 11,
   "id": "bf3ced0a",
   "metadata": {},
   "outputs": [
    {
     "name": "stdout",
     "output_type": "stream",
     "text": [
      "The 6th Fibonacci number is 5.\n"
     ]
    }
   ],
   "source": [
    "def fibonacci(n):\n",
    "    if n <= 0:\n",
    "        return \"Invalid input. Please provide a positive integer.\"\n",
    "    elif n == 1:\n",
    "        return 0\n",
    "    elif n == 2:\n",
    "        return 1\n",
    "    else:\n",
    "        return fibonacci(n - 1) + fibonacci(n - 2)\n",
    "\n",
    "\n",
    "n = 6\n",
    "result = fibonacci(n)\n",
    "print(f\"The {n}th Fibonacci number is {result}.\")\n"
   ]
  },
  {
   "cell_type": "markdown",
   "id": "7c23abe6",
   "metadata": {},
   "source": [
    "# 4. Write a recursive Python function to calculate the sum of all elements in a list."
   ]
  },
  {
   "cell_type": "code",
   "execution_count": 12,
   "id": "36f96cbf",
   "metadata": {},
   "outputs": [
    {
     "name": "stdout",
     "output_type": "stream",
     "text": [
      "The sum of the elements in the list is 15.\n"
     ]
    }
   ],
   "source": [
    "def recursive_sum(lst):\n",
    "    if not lst:\n",
    "        return 0\n",
    "    else:\n",
    "        return lst[0] + recursive_sum(lst[1:])\n",
    "\n",
    "\n",
    "sample_list = [1, 2, 3, 4, 5]\n",
    "result = recursive_sum(sample_list)\n",
    "print(f\"The sum of the elements in the list is {result}.\")\n"
   ]
  },
  {
   "cell_type": "markdown",
   "id": "b3c6d413",
   "metadata": {},
   "source": [
    "# 5. How can you prevent a recursive function from running indefinitely, causing a stack overflow error?"
   ]
  },
  {
   "cell_type": "code",
   "execution_count": null,
   "id": "b8c9812e",
   "metadata": {},
   "outputs": [],
   "source": [
    "- Base Case: Ensure that the recursive function has one or more base cases that will terminate the recursion. These base cases should represent the simplest form of the problem that can be solved without further recursion. Without a base case, the function will continue to call itself infinitely, leading to a stack overflow error.\n",
    "    \n",
    "- Limiting Conditions: Implement limiting conditions or constraints to control the depth of recursion. For instance, you can check if a certain condition has been met or if a certain depth level has been reached, and terminate the recursion accordingly.\n",
    "    \n",
    "- Tail Recursion Optimization: For languages and compilers that support tail call optimization, convert the recursive function into a tail-recursive form. This optimization ensures that the recursive call is the last operation in the function, which allows the compiler to reuse the current stack frame, preventing the accumulation of multiple stack frames and thus avoiding a stack overflow error.    "
   ]
  },
  {
   "cell_type": "markdown",
   "id": "41272ec7",
   "metadata": {},
   "source": [
    "# 6. Create a recursive Python function to find the greatest common divisor (GCD) of two numbers using the Euclidean algorithm.\n"
   ]
  },
  {
   "cell_type": "code",
   "execution_count": 14,
   "id": "5b94c649",
   "metadata": {},
   "outputs": [
    {
     "name": "stdout",
     "output_type": "stream",
     "text": [
      "The greatest common divisor of 48 and 18 is 6.\n"
     ]
    }
   ],
   "source": [
    "def gcd(a, b):\n",
    "    if b == 0:\n",
    "        return a\n",
    "    else:\n",
    "        return gcd(b, a % b)\n",
    "\n",
    "\n",
    "num1 = 48\n",
    "num2 = 18\n",
    "result = gcd(num1, num2)\n",
    "print(f\"The greatest common divisor of {num1} and {num2} is {result}.\")\n"
   ]
  },
  {
   "cell_type": "markdown",
   "id": "6da6e72a",
   "metadata": {},
   "source": [
    "# 7. Write a recursive Python function to reverse a string.\n"
   ]
  },
  {
   "cell_type": "code",
   "execution_count": 15,
   "id": "d01525b4",
   "metadata": {},
   "outputs": [
    {
     "name": "stdout",
     "output_type": "stream",
     "text": [
      "The reverse of 'hello' is 'olleh'.\n"
     ]
    }
   ],
   "source": [
    "def reverse_string(s):\n",
    "    if len(s) == 0:\n",
    "        return s\n",
    "    else:\n",
    "        return reverse_string(s[1:]) + s[0]\n",
    "\n",
    "\n",
    "sample_string = \"hello\"\n",
    "result = reverse_string(sample_string)\n",
    "print(f\"The reverse of '{sample_string}' is '{result}'.\")"
   ]
  },
  {
   "cell_type": "markdown",
   "id": "b1ca4500",
   "metadata": {},
   "source": [
    "# 8. Create a recursive Python function to calculate the power of a number (x^n)."
   ]
  },
  {
   "cell_type": "code",
   "execution_count": 17,
   "id": "28125021",
   "metadata": {},
   "outputs": [
    {
     "name": "stdout",
     "output_type": "stream",
     "text": [
      "2 raised to the power of 5 is 32.\n"
     ]
    }
   ],
   "source": [
    "def power(x, n):\n",
    "    if n == 0:\n",
    "        return 1\n",
    "    elif n > 0:\n",
    "        return x * power(x, n - 1)\n",
    "    else:\n",
    "        return 1 / power(x, -n)\n",
    "\n",
    "\n",
    "base = 2\n",
    "exponent = 5\n",
    "result = power(base, exponent)\n",
    "print(f\"{base} raised to the power of {exponent} is {result}.\")\n"
   ]
  },
  {
   "cell_type": "markdown",
   "id": "83544a67",
   "metadata": {},
   "source": [
    "# 9. Write a recursive Python function to find all permutations of a given string."
   ]
  },
  {
   "cell_type": "code",
   "execution_count": 18,
   "id": "f2432a8f",
   "metadata": {},
   "outputs": [
    {
     "name": "stdout",
     "output_type": "stream",
     "text": [
      "All permutations of 'abc': ['abc', 'acb', 'bac', 'bca', 'cab', 'cba']\n"
     ]
    }
   ],
   "source": [
    "def permutations(s):\n",
    "    if len(s) == 1:\n",
    "        return [s]\n",
    "    else:\n",
    "        perms = []\n",
    "        for i in range(len(s)):\n",
    "            current = s[i]\n",
    "            remaining = s[:i] + s[i+1:]\n",
    "            for p in permutations(remaining):\n",
    "                perms.append(current + p)\n",
    "        return perms\n",
    "\n",
    "sample_string = \"abc\"\n",
    "result = permutations(sample_string)\n",
    "print(f\"All permutations of '{sample_string}': {result}\")\n"
   ]
  },
  {
   "cell_type": "markdown",
   "id": "e3371f31",
   "metadata": {},
   "source": [
    "# 10. Write a recursive Python function to check if a string is a palindrome."
   ]
  },
  {
   "cell_type": "code",
   "execution_count": 19,
   "id": "2b6c7691",
   "metadata": {},
   "outputs": [
    {
     "name": "stdout",
     "output_type": "stream",
     "text": [
      "Is 'radar' a palindrome? True\n",
      "Is 'hello' a palindrome? False\n"
     ]
    }
   ],
   "source": [
    "def is_palindrome(s):\n",
    "    if len(s) <= 1:\n",
    "        return True\n",
    "    else:\n",
    "        if s[0] == s[-1]:\n",
    "            return is_palindrome(s[1:-1])\n",
    "        else:\n",
    "            return False\n",
    "\n",
    "sample_string1 = \"radar\"\n",
    "sample_string2 = \"hello\"\n",
    "\n",
    "print(f\"Is '{sample_string1}' a palindrome? {is_palindrome(sample_string1)}\")\n",
    "print(f\"Is '{sample_string2}' a palindrome? {is_palindrome(sample_string2)}\")\n"
   ]
  },
  {
   "cell_type": "markdown",
   "id": "78d8af7b",
   "metadata": {},
   "source": [
    "# 11. Create a recursive Python function to generate all possible combinations of a list of elements."
   ]
  },
  {
   "cell_type": "code",
   "execution_count": 20,
   "id": "d7a54494",
   "metadata": {},
   "outputs": [
    {
     "name": "stdout",
     "output_type": "stream",
     "text": [
      "All combinations of [1, 2, 3, 4] choose 2: [[1, 2], [1, 3], [1, 4], [2, 3], [2, 4], [3, 4]]\n"
     ]
    }
   ],
   "source": [
    "def combinations(elements, k):\n",
    "    if k == 0:\n",
    "        return [[]]\n",
    "    if k > len(elements):\n",
    "        return []\n",
    "    if k == len(elements):\n",
    "        return [elements]\n",
    "    else:\n",
    "        result = []\n",
    "        for i in range(len(elements)):\n",
    "            current = elements[i]\n",
    "            remaining = elements[i + 1 :]\n",
    "            for c in combinations(remaining, k - 1):\n",
    "                result.append([current] + c)\n",
    "        return result\n",
    "\n",
    "\n",
    "sample_list = [1, 2, 3, 4]\n",
    "k = 2\n",
    "result = combinations(sample_list, k)\n",
    "print(f\"All combinations of {sample_list} choose {k}: {result}\")\n"
   ]
  },
  {
   "cell_type": "markdown",
   "id": "c6280c95",
   "metadata": {},
   "source": [
    "# Basics of Functions:\n"
   ]
  },
  {
   "cell_type": "markdown",
   "id": "1f2eeaad",
   "metadata": {},
   "source": [
    "# 1. What is a function in Python, and why is it used?\n"
   ]
  },
  {
   "cell_type": "markdown",
   "id": "8f047e2d",
   "metadata": {},
   "source": [
    "- Reusability: Once a function is defined, it can be reused multiple times within the same program or in different programs. This can save time and effort, as you don't need to rewrite the same code again and again.\n",
    "    \n",
    "- Abstraction: Functions provide a way to hide the implementation details of a piece of code. You can use a function without needing to know how it is implemented, as long as you understand its purpose and how to use it.\n",
    "\n",
    "    \n",
    "- Encapsulation: Functions allow you to encapsulate a specific task or a set of related tasks. This helps in keeping the main program organized and focused on high-level logic, while the details are handled within individual functions.\n",
    "    \n",
    "- Code Readability: Using functions makes the code more readable and easier to understand. Functions provide a way to give meaningful names to blocks of code, making it easier for others (and your future self) to understand the purpose of each part of the program.     "
   ]
  },
  {
   "cell_type": "markdown",
   "id": "b00948a3",
   "metadata": {},
   "source": [
    "# 2. How do you define a function in Python? Provide an example.\n"
   ]
  },
  {
   "cell_type": "code",
   "execution_count": 22,
   "id": "a088b814",
   "metadata": {},
   "outputs": [
    {
     "name": "stdout",
     "output_type": "stream",
     "text": [
      "Hello, Alice!\n"
     ]
    }
   ],
   "source": [
    "\n",
    "def greet(name):\n",
    "    print(f\"Hello, {name}!\")\n",
    "\n",
    "\n",
    "greet(\"Alice\")\n"
   ]
  },
  {
   "cell_type": "markdown",
   "id": "19791d4d",
   "metadata": {},
   "source": [
    "# 3. Explain the difference between a function definition and a function call.\n"
   ]
  },
  {
   "cell_type": "markdown",
   "id": "f0d09de8",
   "metadata": {},
   "source": [
    "Function Definition-\n",
    "Function definition refers to the process of creating a function in a programming language. It involves using the def keyword in Python, followed by the function name and a set of parentheses that may include parameters.\n",
    "Within the function definition, you write the code that you want the function to execute. This code is indented below the function definition line.\n",
    "\n",
    "Function Call-\n",
    "Function call refers to the process of executing a function that has been defined. When you call a function, you use its name followed by parentheses. If the function accepts parameters, you provide the necessary values within the parentheses.\n",
    "When a function is called, the program jumps to the function's definition and executes the code within the function block. It then returns to the point of the call and continues executing the rest of the code."
   ]
  },
  {
   "cell_type": "markdown",
   "id": "45e022a2",
   "metadata": {},
   "source": [
    "# 4. Write a Python program that defines a function to calculate the sum of two numbers and then calls the function."
   ]
  },
  {
   "cell_type": "code",
   "execution_count": 3,
   "id": "8b1915e4",
   "metadata": {},
   "outputs": [
    {
     "name": "stdout",
     "output_type": "stream",
     "text": [
      "The sum of 5 and 3 is: 8\n"
     ]
    }
   ],
   "source": [
    "def calculate_sum(a, b):\n",
    "    return a + b\n",
    "\n",
    "\n",
    "num1 = 5\n",
    "num2 = 3\n",
    "result = calculate_sum(num1, num2)\n",
    "\n",
    "\n",
    "print(f\"The sum of {num1} and {num2} is: {result}\")\n"
   ]
  },
  {
   "cell_type": "markdown",
   "id": "8d27dde0",
   "metadata": {},
   "source": [
    "# 5. What is a function signature, and what information does it typically include?"
   ]
  },
  {
   "cell_type": "markdown",
   "id": "49038520",
   "metadata": {},
   "source": [
    "A function signature in programming refers to the information that uniquely identifies a function\n",
    "\n",
    "\n",
    "1.Function name: This is the name by which the function is called.\n",
    "2.Return type: It specifies the type of value that the function returns.\n",
    "3.Parameter list: This lists the parameters the function accepts, including the names and data types of the parameters.\n",
    "example-\n",
    "def add_numbers(x: int, y: int) -> int:\n"
   ]
  },
  {
   "cell_type": "markdown",
   "id": "dc379276",
   "metadata": {},
   "source": [
    "# 6. Create a Python function that takes two arguments and returns their product"
   ]
  },
  {
   "cell_type": "code",
   "execution_count": 4,
   "id": "1a89f212",
   "metadata": {},
   "outputs": [
    {
     "name": "stdout",
     "output_type": "stream",
     "text": [
      "The product of 4 and 5 is: 20\n"
     ]
    }
   ],
   "source": [
    "def multiply_numbers(a, b):\n",
    "    return a * b\n",
    "\n",
    "\n",
    "num1 = 4\n",
    "num2 = 5\n",
    "result = multiply_numbers(num1, num2)\n",
    "print(f\"The product of {num1} and {num2} is: {result}\")\n"
   ]
  },
  {
   "cell_type": "markdown",
   "id": "18a269bd",
   "metadata": {},
   "source": [
    "# Function Parameters and Arguments:"
   ]
  },
  {
   "cell_type": "markdown",
   "id": "c6341643",
   "metadata": {},
   "source": [
    "# 1.Explain the concepts of formal parameters and actual arguments in Python functions."
   ]
  },
  {
   "cell_type": "markdown",
   "id": "de21fd44",
   "metadata": {},
   "source": [
    "Formal parameters: These are the parameters that are specified in the function definition. They act as placeholders for the values that will be passed to the function when it is called. Formal parameters are the names listed in the function definition. They are used to create a general function that can be reused with different values\n",
    "example-\n",
    "def my_function(parameter1, parameter2):\n",
    "    # Function body\n",
    "    pass\n",
    "\n",
    "    \n",
    "Actual arguments: These are the values or variables that are passed to a function when it is called. These values are substituted for the formal parameters within the function's body. Actual arguments can be constants, variables, expressions, or any other valid Python expressions\n",
    "example-    \n",
    "my_function(5, some_variable)\n",
    "   "
   ]
  },
  {
   "cell_type": "markdown",
   "id": "f0c2d920",
   "metadata": {},
   "source": [
    "# 2. Write a Python program that defines a function with default argument values."
   ]
  },
  {
   "cell_type": "code",
   "execution_count": 5,
   "id": "c92c295f",
   "metadata": {},
   "outputs": [
    {
     "name": "stdout",
     "output_type": "stream",
     "text": [
      "Hello, John!\n",
      "Hi, Emily!\n"
     ]
    }
   ],
   "source": [
    "def greet(name, greeting=\"Hello\"):\n",
    "   \n",
    "    return f\"{greeting}, {name}!\"\n",
    "\n",
    "\n",
    "print(greet(\"John\"))  \n",
    "\n",
    "\n",
    "print(greet(\"Emily\", \"Hi\"))  \n"
   ]
  },
  {
   "cell_type": "markdown",
   "id": "cdfe7eb3",
   "metadata": {},
   "source": [
    "# 3. How do you use keyword arguments in Python function calls? Provide an example.\n"
   ]
  },
  {
   "cell_type": "code",
   "execution_count": 6,
   "id": "19747ef8",
   "metadata": {},
   "outputs": [
    {
     "name": "stdout",
     "output_type": "stream",
     "text": [
      "I have a dog. My dog's name is Max.\n",
      "I have a dog. My dog's name is Lassie.\n"
     ]
    }
   ],
   "source": [
    "def describe_pet(animal_type, pet_name):\n",
    "    \n",
    "    return f\"I have a {animal_type}. My {animal_type}'s name is {pet_name}.\"\n",
    "\n",
    "\n",
    "print(describe_pet(animal_type='dog', pet_name='Max'))\n",
    "print(describe_pet(pet_name='Lassie', animal_type='dog'))\n"
   ]
  },
  {
   "cell_type": "markdown",
   "id": "194a1d70",
   "metadata": {},
   "source": [
    "# 4. Create a Python function that accepts a variable number of arguments and calculates their sum.\n"
   ]
  },
  {
   "cell_type": "code",
   "execution_count": 10,
   "id": "189c884b",
   "metadata": {},
   "outputs": [
    {
     "name": "stdout",
     "output_type": "stream",
     "text": [
      "10\n",
      "55\n"
     ]
    }
   ],
   "source": [
    "def calculate_sum(*args):\n",
    "    \n",
    "    total_sum = 0\n",
    "    for num in args:\n",
    "        total_sum += num\n",
    "    return total_sum\n",
    "\n",
    "# Example usage\n",
    "print(calculate_sum(1, 2, 3, 4))  # Output: 10\n",
    "print(calculate_sum(1, 2, 3, 4, 5, 6, 7, 8, 9, 10))  # Output: 55\n"
   ]
  },
  {
   "cell_type": "markdown",
   "id": "caeda93f",
   "metadata": {},
   "source": [
    "# 5. What is the purpose of the `*args` and `**kwargs` syntax in function parameter lists?\n"
   ]
  },
  {
   "cell_type": "markdown",
   "id": "e4399853",
   "metadata": {},
   "source": [
    "- The *args syntax allows a function to accept a variable number of positional arguments.\n",
    " When you use *args in a function definition, it collects all the positional     arguments into a tuple.\n",
    "\n",
    "- The **kwargs syntax allows a function to accept a variable number of keyword arguments.\n",
    " When you use **kwargs in a function definition, it collects all the keyword     arguments into a dictionary."
   ]
  },
  {
   "cell_type": "markdown",
   "id": "06070904",
   "metadata": {},
   "source": [
    "# Return Values and Scoping:"
   ]
  },
  {
   "cell_type": "markdown",
   "id": "7c0758c2",
   "metadata": {},
   "source": [
    "# 1. Describe the role of the `return` statement in Python functions and provide examples.\n"
   ]
  },
  {
   "cell_type": "markdown",
   "id": "520de0bf",
   "metadata": {},
   "source": [
    "The return statement in Python functions serves the purpose of specifying the value that a function call will evaluate to. When the interpreter encounters a return statement, it immediately exits the function and passes the specified value back to the caller. This allows you to control what the function outputs based on the computations or operations performed within the function.\n",
    "\n",
    "example-\n",
    "def add_numbers(a, b):\n",
    "    \n",
    "    return a + b\n",
    "\n",
    "result = add_numbers(3, 4)\n",
    "print(result)  # Output: 7\n",
    "\n"
   ]
  },
  {
   "cell_type": "markdown",
   "id": "ba1b54b6",
   "metadata": {},
   "source": [
    "# 2. Explain the concept of variable scope in Python, including local and global variables."
   ]
  },
  {
   "cell_type": "markdown",
   "id": "9bfa5d5b",
   "metadata": {},
   "source": [
    "- Local variables: Variables that are defined within a function are considered local to that function. They can only be accessed from within the function in which they are defined. Once the function execution is complete, the local variables are destroyed\n",
    "example-\n",
    "def my_function():\n",
    "    x = 10  # Local variable\n",
    "    print(x)\n",
    "\n",
    "my_function()\n",
    "\n",
    "\n",
    "- Global variables: Variables that are defined outside of any function or those explicitly declared as global within a function are considered global variables. They can be accessed from anywhere within the program, including inside functions\n",
    "    \n",
    "example-    \n",
    "y = 20  # Global variable\n",
    "\n",
    "def my_function():\n",
    "    global y\n",
    "    y += 1  \n",
    "    print(y)\n",
    "\n",
    "my_function()\n",
    "print(y)  \n",
    "    \n",
    "    "
   ]
  },
  {
   "cell_type": "markdown",
   "id": "ea2dffa7",
   "metadata": {},
   "source": [
    "# 3. Write a Python program that demonstrates the use of global variables within functions."
   ]
  },
  {
   "cell_type": "code",
   "execution_count": 12,
   "id": "10bbb4a0",
   "metadata": {},
   "outputs": [
    {
     "name": "stdout",
     "output_type": "stream",
     "text": [
      "Global variable before modification:\n",
      "The global variable is: 10\n",
      "Global variable after modification:\n",
      "The global variable is: 15\n"
     ]
    }
   ],
   "source": [
    "global_var = 10\n",
    "\n",
    "\n",
    "def modify_global():\n",
    "    global global_var\n",
    "    global_var += 5\n",
    "\n",
    "\n",
    "def access_global():\n",
    "    print(f\"The global variable is: {global_var}\")\n",
    "\n",
    "\n",
    "print(\"Global variable before modification:\")\n",
    "access_global()\n",
    "\n",
    "\n",
    "modify_global()\n",
    "\n",
    "\n",
    "print(\"Global variable after modification:\")\n",
    "access_global()\n"
   ]
  },
  {
   "cell_type": "markdown",
   "id": "7b13fa33",
   "metadata": {},
   "source": [
    "# 4. Create a Python function that calculates the factorial of a number and returns it."
   ]
  },
  {
   "cell_type": "code",
   "execution_count": 13,
   "id": "81cd01cf",
   "metadata": {},
   "outputs": [
    {
     "name": "stdout",
     "output_type": "stream",
     "text": [
      "The factorial of 5 is: 120\n"
     ]
    }
   ],
   "source": [
    "def factorial(n):\n",
    "   \n",
    "    if n == 0 or n == 1:\n",
    "        return 1\n",
    "    else:\n",
    "        result = 1\n",
    "        for i in range(2, n + 1):\n",
    "            result *= i\n",
    "        return result\n",
    "\n",
    "\n",
    "num = 5\n",
    "fact = factorial(num)\n",
    "print(f\"The factorial of {num} is: {fact}\")\n"
   ]
  },
  {
   "cell_type": "markdown",
   "id": "4bd513c8",
   "metadata": {},
   "source": [
    "# 5. How can you access variables defined outside a function from within the function?"
   ]
  },
  {
   "cell_type": "code",
   "execution_count": 14,
   "id": "bc959237",
   "metadata": {},
   "outputs": [
    {
     "name": "stdout",
     "output_type": "stream",
     "text": [
      "Global variable before modification:\n",
      "The global variable is: 10\n",
      "Global variable after modification:\n",
      "The global variable is: 15\n"
     ]
    }
   ],
   "source": [
    "global_var = 10\n",
    "\n",
    "\n",
    "def access_global():\n",
    "    global global_var\n",
    "    print(f\"The global variable is: {global_var}\")\n",
    "\n",
    "\n",
    "def modify_global():\n",
    "    global global_var\n",
    "    global_var += 5\n",
    "\n",
    "\n",
    "print(\"Global variable before modification:\")\n",
    "access_global()\n",
    "\n",
    "\n",
    "modify_global()\n",
    "\n",
    "\n",
    "print(\"Global variable after modification:\")\n",
    "access_global()\n"
   ]
  },
  {
   "cell_type": "markdown",
   "id": "1e1a1c4c",
   "metadata": {},
   "source": [
    "# Lambda Functions and Higher-Order Functions:\n"
   ]
  },
  {
   "cell_type": "markdown",
   "id": "4043e7dc",
   "metadata": {},
   "source": [
    "# 1. What are lambda functions in Python, and when are they typically used?"
   ]
  },
  {
   "cell_type": "markdown",
   "id": "8feb832c",
   "metadata": {},
   "source": [
    "-Lambda functions are typically used for short, simple operations where creating a separate function using the def keyword would be overkill.\n",
    "ex-add_numbers = lambda x, y: x + y\n",
    "print(add_numbers(3, 4))  # Output: 7\n",
    "\n",
    "\n",
    "- Lambda functions are often used as arguments to functions like map(), filter(), and sort() to perform quick operations without the need to define a separate function.\n",
    "-They are used when you need a simple function for a short, one-time operation, and defining a formal function using def would be unnecessary and cumbersome."
   ]
  },
  {
   "cell_type": "markdown",
   "id": "1c43a408",
   "metadata": {},
   "source": [
    "# 2. Write a Python program that uses lambda functions to sort a list of tuples based on the second element."
   ]
  },
  {
   "cell_type": "code",
   "execution_count": 15,
   "id": "152adb12",
   "metadata": {},
   "outputs": [
    {
     "name": "stdout",
     "output_type": "stream",
     "text": [
      "Sorted list of tuples based on the second element:\n",
      "[(6, 1), (3, 2), (4, 3), (1, 5), (8, 9)]\n"
     ]
    }
   ],
   "source": [
    "my_list = [(1, 5), (3, 2), (8, 9), (4, 3), (6, 1)]\n",
    "\n",
    "\n",
    "my_list.sort(key=lambda x: x[1])\n",
    "\n",
    "\n",
    "print(\"Sorted list of tuples based on the second element:\")\n",
    "print(my_list)\n"
   ]
  },
  {
   "cell_type": "markdown",
   "id": "d6da9134",
   "metadata": {},
   "source": [
    "# 3. Explain the concept of higher-order functions in Python, and provide an example."
   ]
  },
  {
   "cell_type": "code",
   "execution_count": 16,
   "id": "e2cfacc7",
   "metadata": {},
   "outputs": [
    {
     "name": "stdout",
     "output_type": "stream",
     "text": [
      "Result of addition: 7\n",
      "Result of multiplication: 12\n"
     ]
    }
   ],
   "source": [
    "def apply_operation(func, x, y):\n",
    "    \"\"\"\n",
    "    This function takes another function as an argument and applies it to the given inputs.\n",
    "    \"\"\"\n",
    "    return func(x, y)\n",
    "\n",
    "\n",
    "def add(a, b):\n",
    "    return a + b\n",
    "\n",
    "def multiply(a, b):\n",
    "    return a * b\n",
    "\n",
    "\n",
    "result1 = apply_operation(add, 3, 4)\n",
    "result2 = apply_operation(multiply, 3, 4)\n",
    "\n",
    "\n",
    "print(f\"Result of addition: {result1}\")\n",
    "print(f\"Result of multiplication: {result2}\")\n"
   ]
  },
  {
   "cell_type": "markdown",
   "id": "16b17da3",
   "metadata": {},
   "source": [
    "# 4. Create a Python function that takes a list of numbers and a function as arguments, applying the function to each element in the list.\n"
   ]
  },
  {
   "cell_type": "code",
   "execution_count": 17,
   "id": "cc862012",
   "metadata": {},
   "outputs": [
    {
     "name": "stdout",
     "output_type": "stream",
     "text": [
      "Result list after applying the function: [1, 4, 9, 16, 25]\n"
     ]
    }
   ],
   "source": [
    "def apply_function_to_list(func, num_list):\n",
    "    \n",
    "    return [func(num) for num in num_list]\n",
    "\n",
    "\n",
    "my_list = [1, 2, 3, 4, 5]\n",
    "\n",
    "\n",
    "def square(x):\n",
    "    return x * x\n",
    "\n",
    "\n",
    "result_list = apply_function_to_list(square, my_list)\n",
    "print(f\"Result list after applying the function: {result_list}\")\n"
   ]
  },
  {
   "cell_type": "markdown",
   "id": "4488efc8",
   "metadata": {},
   "source": [
    "# Built-in Functions:\n"
   ]
  },
  {
   "cell_type": "markdown",
   "id": "d6b956bf",
   "metadata": {},
   "source": [
    "# 1. Describe the role of built-in functions like `len()`, `max()`, and `min()` in Python."
   ]
  },
  {
   "cell_type": "markdown",
   "id": "f3b15481",
   "metadata": {},
   "source": [
    "- len(): The len() function is used to determine the length of a sequence, such as a string, list, tuple, or dictionary. It returns the number of items in the sequence.\n",
    "ex-    \n",
    "my_list = [1, 2, 3, 4, 5]\n",
    "length = len(my_list)\n",
    "print(length)  # Output: 5\n",
    "\n",
    "- max(): The max() function is used to find the largest item in an iterable or the largest of two or more arguments. It returns the maximum value.\n",
    "ex- \n",
    "my_list = [1, 2, 3, 4, 5]\n",
    "maximum_value = max(my_list)\n",
    "print(maximum_value)  # Output: 5\n",
    " \n",
    "\n",
    "- min(): The min() function is used to find the smallest item in an iterable or the smallest of two or more arguments. It returns the minimum value.\n",
    "ex-\n",
    "my_list = [1, 2, 3, 4, 5]\n",
    "minimum_value = min(my_list)\n",
    "print(minimum_value)  # Output: 1\n"
   ]
  },
  {
   "cell_type": "markdown",
   "id": "882c9f04",
   "metadata": {},
   "source": [
    "# 2. Write a Python program that uses the `map()` function to apply a function to each element of a list."
   ]
  },
  {
   "cell_type": "code",
   "execution_count": 18,
   "id": "f23f01f1",
   "metadata": {},
   "outputs": [
    {
     "name": "stdout",
     "output_type": "stream",
     "text": [
      "Result after applying the function to each element: [1, 4, 9, 16, 25]\n"
     ]
    }
   ],
   "source": [
    "def square(x):\n",
    "    return x * x\n",
    "\n",
    "\n",
    "my_list = [1, 2, 3, 4, 5]\n",
    "\n",
    "\n",
    "result = list(map(square, my_list))\n",
    "\n",
    "\n",
    "print(f\"Result after applying the function to each element: {result}\")\n"
   ]
  },
  {
   "cell_type": "markdown",
   "id": "d5605c93",
   "metadata": {},
   "source": [
    "# 3. How does the `filter()` function work in Python, and when would you use it?"
   ]
  },
  {
   "cell_type": "markdown",
   "id": "a3fbb4ed",
   "metadata": {},
   "source": [
    "- The filter() function in Python is used to filter elements from an iterable based on a function that returns either True or False. It takes in two arguments\n",
    "- The filter() function returns an iterator that contains the elements for which the function returns True.\n",
    "ex-\n",
    "\n",
    "def is_even(n):\n",
    "    return n % 2 == 0\n",
    "\n",
    "my_list = [1, 2, 3, 4, 5, 6, 7, 8, 9, 10]\n",
    "\n",
    "\n",
    "result = list(filter(is_even, my_list))\n",
    "\n",
    "\n",
    "print(f\"Filtered list of even numbers: {result}\")\n"
   ]
  },
  {
   "cell_type": "markdown",
   "id": "15d2dfb2",
   "metadata": {},
   "source": [
    "# 4. Create a Python program that uses the `reduce()` function to find the product of all elements in a list."
   ]
  },
  {
   "cell_type": "code",
   "execution_count": 19,
   "id": "4f3d3f1a",
   "metadata": {},
   "outputs": [
    {
     "name": "stdout",
     "output_type": "stream",
     "text": [
      "The product of all elements in the list is: 120\n"
     ]
    }
   ],
   "source": [
    "from functools import reduce\n",
    "\n",
    "my_list = [1, 2, 3, 4, 5]\n",
    "\n",
    "product = reduce(lambda x, y: x * y, my_list)\n",
    "\n",
    "\n",
    "print(f\"The product of all elements in the list is: {product}\")\n"
   ]
  },
  {
   "cell_type": "markdown",
   "id": "70e60f7f",
   "metadata": {},
   "source": [
    "# Function Documentation and Best Practices:\n"
   ]
  },
  {
   "cell_type": "markdown",
   "id": "0e06f650",
   "metadata": {},
   "source": [
    "# 1. Explain the purpose of docstrings in Python functions and how to write them.\n"
   ]
  },
  {
   "cell_type": "markdown",
   "id": "17f09c02",
   "metadata": {},
   "source": [
    "- A brief description of what the function does.\n",
    "- Descriptions of the function's parameters, including their data types and what they represent.\n",
    "- Description of the return value or values, including their data types and what they represent.\n",
    "\n",
    "ex-\n",
    "def my_function(param1, param2):\n",
    "    pass\n",
    "\n"
   ]
  },
  {
   "cell_type": "markdown",
   "id": "1ad4b4e6",
   "metadata": {},
   "source": [
    "# 2. Describe some best practices for naming functions and variables in Python, including naming conventions and guidelines."
   ]
  },
  {
   "cell_type": "markdown",
   "id": "67009cdb",
   "metadata": {},
   "source": [
    "- Use descriptive names: Choose meaningful and descriptive names that clearly indicate the purpose and functionality of the function or variable.\n",
    " naming conventions- \n",
    "-Use lowercase letters for function and variable names.\n",
    "-Separate words in a function or variable name using underscores to improve readability (snake_case).\n",
    "-Use uppercase letters for constants or variables whose values should not change (e.g., MAX_COUNT).\n",
    "-Avoid using single-character variable names, except for simple counters or iterators.      \n",
    "\n",
    "-Be consistent: Maintain a consistent naming style throughout your codebase to make it more readable and easier to understand.\n",
    "- Use verbs for function names: Use verbs to indicate actions or operations performed by the function (e.g., calculate_sum, get_data, validate_input).\n",
    "\n",
    "- Use nouns for variable names: Use nouns or noun phrases to name variables, indicating what the variable represents or stores (e.g., user_name, product_list, customer_id).\n",
    "\n",
    "- Avoid using reserved keywords: Ensure that your function and variable names do not conflict with Python keywords or built-in functions.\n",
    "\n",
    "- Use meaningful and clear names for parameters: Provide clear and descriptive names for function parameters to indicate what values the function expects to receive.    "
   ]
  }
 ],
 "metadata": {
  "kernelspec": {
   "display_name": "Python 3 (ipykernel)",
   "language": "python",
   "name": "python3"
  },
  "language_info": {
   "codemirror_mode": {
    "name": "ipython",
    "version": 3
   },
   "file_extension": ".py",
   "mimetype": "text/x-python",
   "name": "python",
   "nbconvert_exporter": "python",
   "pygments_lexer": "ipython3",
   "version": "3.9.7"
  }
 },
 "nbformat": 4,
 "nbformat_minor": 5
}
